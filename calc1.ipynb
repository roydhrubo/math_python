{
  "cells": [
    {
      "cell_type": "markdown",
      "metadata": {
        "id": "view-in-github",
        "colab_type": "text"
      },
      "source": [
        "<a href=\"https://colab.research.google.com/github/roydhrubo/math_python/blob/main/calc1.ipynb\" target=\"_parent\"><img src=\"https://colab.research.google.com/assets/colab-badge.svg\" alt=\"Open In Colab\"/></a>"
      ]
    },
    {
      "cell_type": "code",
      "execution_count": 1,
      "metadata": {
        "id": "DW7IKMQv-JBd"
      },
      "outputs": [],
      "source": [
        "import sympy as smp"
      ]
    },
    {
      "cell_type": "code",
      "execution_count": 2,
      "metadata": {
        "id": "iTA4xI85-JBs"
      },
      "outputs": [],
      "source": [
        "x , y = smp.symbols('x,y')"
      ]
    },
    {
      "cell_type": "code",
      "execution_count": 3,
      "metadata": {
        "colab": {
          "base_uri": "https://localhost:8080/",
          "height": 41
        },
        "id": "6BugdBaR-JBv",
        "outputId": "3a59b61d-2480-4d9a-9105-c81bdb1f752c"
      },
      "outputs": [
        {
          "output_type": "execute_result",
          "data": {
            "text/plain": [
              "x**(3/2)"
            ],
            "text/latex": "$\\displaystyle x^{\\frac{3}{2}}$"
          },
          "metadata": {},
          "execution_count": 3
        }
      ],
      "source": [
        "f = x**2 +y**2 +2*x*y\n",
        "f.subs(x,4)                 #subs means substitute\n",
        "x**(smp.Rational(3/2))"
      ]
    },
    {
      "cell_type": "markdown",
      "metadata": {
        "id": "a2B5jXf0-JB0"
      },
      "source": [
        "## 1. Limits\n",
        "\n",
        "$$\n",
        "\\displaystyle\\lim_{x\\to \\pi}   \\sin(\\frac{x}{2} + \\sin(x))\n",
        "$$"
      ]
    },
    {
      "cell_type": "code",
      "execution_count": 4,
      "metadata": {
        "colab": {
          "base_uri": "https://localhost:8080/",
          "height": 37
        },
        "id": "AyezukSO-JB5",
        "outputId": "6024a862-9e70-4b1d-f886-ba7023a18b09"
      },
      "outputs": [
        {
          "output_type": "execute_result",
          "data": {
            "text/plain": [
              "1"
            ],
            "text/latex": "$\\displaystyle 1$"
          },
          "metadata": {},
          "execution_count": 4
        }
      ],
      "source": [
        "smp.limit( smp.sin(x/2 + smp.sin(x)) , x , smp.pi)"
      ]
    },
    {
      "cell_type": "markdown",
      "metadata": {
        "id": "zXZe1_e1-JB8"
      },
      "source": [
        "$$\n",
        "\\displaystyle \\lim_{x \\to 0^{+}} \\frac{2 e^{\\frac{1}{x}}}{e^{\\frac{1}{x}}+1}\n",
        "$$"
      ]
    },
    {
      "cell_type": "code",
      "execution_count": 5,
      "metadata": {
        "colab": {
          "base_uri": "https://localhost:8080/",
          "height": 37
        },
        "id": "90TlNaLU-JB-",
        "outputId": "1cba21c7-4f5e-403a-c9f7-649ecbc056b3"
      },
      "outputs": [
        {
          "output_type": "execute_result",
          "data": {
            "text/plain": [
              "2"
            ],
            "text/latex": "$\\displaystyle 2$"
          },
          "metadata": {},
          "execution_count": 5
        }
      ],
      "source": [
        "smp.limit( (2*smp.exp(1/x)) / (smp.exp(1/x) + 1), x, 0,dir='+' )"
      ]
    },
    {
      "cell_type": "markdown",
      "metadata": {
        "id": "tc04qgId-JCC"
      },
      "source": [
        "$$\n",
        "\\displaystyle \\lim_{x \\to 0^{-}} \\frac{2 e^{\\frac{1}{x}}}{e^{\\frac{1}{x}}+1}\n",
        "$$"
      ]
    },
    {
      "cell_type": "code",
      "execution_count": 6,
      "metadata": {
        "colab": {
          "base_uri": "https://localhost:8080/",
          "height": 37
        },
        "id": "UvMtFgdW-JCF",
        "outputId": "9334051e-2f07-4ec0-d33d-3ec818ca1aa7"
      },
      "outputs": [
        {
          "output_type": "execute_result",
          "data": {
            "text/plain": [
              "0"
            ],
            "text/latex": "$\\displaystyle 0$"
          },
          "metadata": {},
          "execution_count": 6
        }
      ],
      "source": [
        "smp.limit( (2*smp.exp(1/x)) / (smp.exp(1/x) + 1), x, 0,dir='-' )"
      ]
    },
    {
      "cell_type": "markdown",
      "metadata": {
        "id": "fMC-O2PA-JCI"
      },
      "source": [
        "$$\n",
        "\\displaystyle\\lim_{x\\to\\infty} \\frac{\\cos(x) - 1}{x} \n",
        "$$"
      ]
    },
    {
      "cell_type": "code",
      "execution_count": 7,
      "metadata": {
        "colab": {
          "base_uri": "https://localhost:8080/",
          "height": 37
        },
        "id": "zLmsI8Zh-JCK",
        "outputId": "53b13d8f-3186-4319-8b05-9a85270b140f"
      },
      "outputs": [
        {
          "output_type": "execute_result",
          "data": {
            "text/plain": [
              "0"
            ],
            "text/latex": "$\\displaystyle 0$"
          },
          "metadata": {},
          "execution_count": 7
        }
      ],
      "source": [
        "smp.limit( ( (smp.cos(x)-1) / x ),x,smp.oo )"
      ]
    },
    {
      "cell_type": "markdown",
      "metadata": {
        "id": "mBJP-zcb-JCN"
      },
      "source": [
        "## 2. Derivatives\n",
        "\n",
        "$$\n",
        "\\frac {d}{dx} \\left(\\frac {1+\\sin x}{1-\\cos x}\\right)^2\n",
        "$$"
      ]
    },
    {
      "cell_type": "code",
      "execution_count": 8,
      "metadata": {
        "colab": {
          "base_uri": "https://localhost:8080/",
          "height": 63
        },
        "id": "Py-e1AWs-JCO",
        "outputId": "e90db16f-f04f-4ba6-fe2b-dbd24415084c"
      },
      "outputs": [
        {
          "output_type": "execute_result",
          "data": {
            "text/plain": [
              "2*(sin(x) + 1)*cos(x)/(1 - cos(x))**2 - 2*(sin(x) + 1)**2*sin(x)/(1 - cos(x))**3"
            ],
            "text/latex": "$\\displaystyle \\frac{2 \\left(\\sin{\\left(x \\right)} + 1\\right) \\cos{\\left(x \\right)}}{\\left(1 - \\cos{\\left(x \\right)}\\right)^{2}} - \\frac{2 \\left(\\sin{\\left(x \\right)} + 1\\right)^{2} \\sin{\\left(x \\right)}}{\\left(1 - \\cos{\\left(x \\right)}\\right)^{3}}$"
          },
          "metadata": {},
          "execution_count": 8
        }
      ],
      "source": [
        "smp.diff( ( (1+smp.sin(x)) / (1-smp.cos(x)) )**2 , x )"
      ]
    },
    {
      "cell_type": "markdown",
      "metadata": {
        "id": "cgztl76Z-JCQ"
      },
      "source": [
        "$$\n",
        "\\frac{d}{dx} \\left( \\log_{5}{x} \\right)^\\frac{x}{2}\n",
        "$$"
      ]
    },
    {
      "cell_type": "code",
      "execution_count": 9,
      "metadata": {
        "colab": {
          "base_uri": "https://localhost:8080/",
          "height": 80
        },
        "id": "uAoDN1cI-JCS",
        "outputId": "a9b2cd90-86f8-4a65-976c-51c2487d21ef"
      },
      "outputs": [
        {
          "output_type": "execute_result",
          "data": {
            "text/plain": [
              "(log(x)/log(5))**(x/2)*(log(log(x)/log(5))/2 + 1/(2*log(x)))"
            ],
            "text/latex": "$\\displaystyle \\left(\\frac{\\log{\\left(x \\right)}}{\\log{\\left(5 \\right)}}\\right)^{\\frac{x}{2}} \\left(\\frac{\\log{\\left(\\frac{\\log{\\left(x \\right)}}{\\log{\\left(5 \\right)}} \\right)}}{2} + \\frac{1}{2 \\log{\\left(x \\right)}}\\right)$"
          },
          "metadata": {},
          "execution_count": 9
        }
      ],
      "source": [
        "smp.diff(smp.log(x,5)**(x/2),x)"
      ]
    },
    {
      "cell_type": "markdown",
      "metadata": {
        "id": "lMt_3ZNV-JCU"
      },
      "source": [
        "$$\n",
        "\\frac{d}{dx} f(x+g(x))\n",
        "$$"
      ]
    },
    {
      "cell_type": "code",
      "execution_count": 10,
      "metadata": {
        "id": "MhSP7MYg-JCV"
      },
      "outputs": [],
      "source": [
        "f, g = smp.symbols('f g',cls=smp.Function)\n",
        "g = g(x)\n",
        "f = f(x+g)"
      ]
    },
    {
      "cell_type": "code",
      "execution_count": 11,
      "metadata": {
        "colab": {
          "base_uri": "https://localhost:8080/",
          "height": 62
        },
        "id": "Nfr1GO-M-JCX",
        "outputId": "0071d311-06df-42c7-fff1-830be0171a80"
      },
      "outputs": [
        {
          "output_type": "execute_result",
          "data": {
            "text/plain": [
              "(Derivative(g(x), x) + 1)*Subs(Derivative(f(_xi_1), _xi_1), _xi_1, x + g(x))"
            ],
            "text/latex": "$\\displaystyle \\left(\\frac{d}{d x} g{\\left(x \\right)} + 1\\right) \\left. \\frac{d}{d \\xi_{1}} f{\\left(\\xi_{1} \\right)} \\right|_{\\substack{ \\xi_{1}=x + g{\\left(x \\right)} }}$"
          },
          "metadata": {},
          "execution_count": 11
        }
      ],
      "source": [
        "smp.diff(f,x)"
      ]
    },
    {
      "cell_type": "markdown",
      "metadata": {
        "id": "yQxYdXZs-JCY"
      },
      "source": [
        "## 3. Basic Antiderivatives\n",
        "\n",
        "$$\n",
        "\\int\\csc(x)\\cot(x)dx\n",
        "$$"
      ]
    },
    {
      "cell_type": "code",
      "execution_count": 12,
      "metadata": {
        "colab": {
          "base_uri": "https://localhost:8080/",
          "height": 55
        },
        "id": "DAQwpaKX-JCZ",
        "outputId": "ed3b7cb1-5375-4b4b-9c44-e0e33a487856"
      },
      "outputs": [
        {
          "output_type": "execute_result",
          "data": {
            "text/plain": [
              "-1/sin(x)"
            ],
            "text/latex": "$\\displaystyle - \\frac{1}{\\sin{\\left(x \\right)}}$"
          },
          "metadata": {},
          "execution_count": 12
        }
      ],
      "source": [
        "smp.integrate(smp.csc(x)*smp.cot(x), x)"
      ]
    },
    {
      "cell_type": "markdown",
      "metadata": {
        "id": "7yNCJG---JCc"
      },
      "source": [
        "$$\n",
        "\\int4\\sec(3x)\\tan(3x)dx\n",
        "$$"
      ]
    },
    {
      "cell_type": "code",
      "execution_count": 13,
      "metadata": {
        "colab": {
          "base_uri": "https://localhost:8080/",
          "height": 55
        },
        "id": "_nH0taTN-JCd",
        "outputId": "eb565f72-da72-452e-8167-af72259f952c"
      },
      "outputs": [
        {
          "output_type": "execute_result",
          "data": {
            "text/plain": [
              "4/(3*cos(3*x))"
            ],
            "text/latex": "$\\displaystyle \\frac{4}{3 \\cos{\\left(3 x \\right)}}$"
          },
          "metadata": {},
          "execution_count": 13
        }
      ],
      "source": [
        "smp.integrate(4*smp.sec(3*x)*smp.tan(3*x),x)"
      ]
    },
    {
      "cell_type": "markdown",
      "metadata": {
        "id": "HHkf_vFO-JCe"
      },
      "source": [
        "$$\n",
        "\\int\\left(\\frac{2}{\\sqrt{1-x^2}} - \\frac{1}{x^{\\frac{1}{4}}}\\right) dx\n",
        "$$"
      ]
    },
    {
      "cell_type": "code",
      "execution_count": 14,
      "metadata": {
        "colab": {
          "base_uri": "https://localhost:8080/",
          "height": 56
        },
        "id": "pXq2SOns-JCg",
        "outputId": "b360f235-9fec-4acb-c6ff-9fe1ddd4fd28"
      },
      "outputs": [
        {
          "output_type": "execute_result",
          "data": {
            "text/plain": [
              "-4*x**(3/4)/3 + 2*asin(x)"
            ],
            "text/latex": "$\\displaystyle - \\frac{4 x^{\\frac{3}{4}}}{3} + 2 \\operatorname{asin}{\\left(x \\right)}$"
          },
          "metadata": {},
          "execution_count": 14
        }
      ],
      "source": [
        "smp.integrate(( 2/smp.sqrt(1-x**2) - 1/x**smp.Rational(1,4) ) , x)"
      ]
    },
    {
      "cell_type": "markdown",
      "metadata": {
        "id": "QmlpqG4I-JCh"
      },
      "source": [
        "## 4. Intial Value Problems\n",
        "\n",
        "1. Given $ \\frac{dy}{dx} = 8x + \\csc^2(x) $ with $ y(\\frac{\\pi}{2}) = -7 $ , solve for $ y(x) $"
      ]
    },
    {
      "cell_type": "code",
      "execution_count": 15,
      "metadata": {
        "colab": {
          "base_uri": "https://localhost:8080/",
          "height": 57
        },
        "id": "N7m9fJp3-JCi",
        "outputId": "4f29ba61-7830-4a61-cf12-32be1cfaee31"
      },
      "outputs": [
        {
          "output_type": "execute_result",
          "data": {
            "text/plain": [
              "4*x**2 - pi**2 - 7 - cos(x)/sin(x)"
            ],
            "text/latex": "$\\displaystyle 4 x^{2} - \\pi^{2} - 7 - \\frac{\\cos{\\left(x \\right)}}{\\sin{\\left(x \\right)}}$"
          },
          "metadata": {},
          "execution_count": 15
        }
      ],
      "source": [
        "integral = smp.integrate((8*x + smp.csc(x)**2) ,x)\n",
        "C = -7 - integral.subs(x,smp.pi/2)\n",
        "y = integral + C\n",
        "y"
      ]
    },
    {
      "cell_type": "markdown",
      "metadata": {
        "id": "r3bO1eND-JCj"
      },
      "source": [
        "## 5. Some Complicated Expression\n",
        "\n",
        "$$\n",
        "\\int \\frac{(1+\\sqrt{x})^{1/3}}{\\sqrt{x}} dx\n",
        "$$"
      ]
    },
    {
      "cell_type": "code",
      "execution_count": 16,
      "metadata": {
        "colab": {
          "base_uri": "https://localhost:8080/",
          "height": 56
        },
        "id": "Pcuupg5n-JCk",
        "outputId": "23c3d8a0-4365-42fb-8434-f3039eb867f2"
      },
      "outputs": [
        {
          "output_type": "execute_result",
          "data": {
            "text/plain": [
              "3*sqrt(x)*(sqrt(x) + 1)**(1/3)/2 + 3*(sqrt(x) + 1)**(1/3)/2"
            ],
            "text/latex": "$\\displaystyle \\frac{3 \\sqrt{x} \\sqrt[3]{\\sqrt{x} + 1}}{2} + \\frac{3 \\sqrt[3]{\\sqrt{x} + 1}}{2}$"
          },
          "metadata": {},
          "execution_count": 16
        }
      ],
      "source": [
        "smp.integrate(((1+smp.sqrt(x))**smp.Rational(1,3) / smp.sqrt(x) ), x)"
      ]
    },
    {
      "cell_type": "markdown",
      "metadata": {
        "id": "OpnEKCPo-JCl"
      },
      "source": [
        "$$\n",
        "\\int x(1-x^2)^{1/4} dx\n",
        "$$"
      ]
    },
    {
      "cell_type": "code",
      "execution_count": 17,
      "metadata": {
        "colab": {
          "base_uri": "https://localhost:8080/",
          "height": 56
        },
        "id": "vafMf5Sv-JCm",
        "outputId": "ee86c30a-1f9b-4d5d-ff11-214b40569abd"
      },
      "outputs": [
        {
          "output_type": "execute_result",
          "data": {
            "text/plain": [
              "2*x**2*(1 - x**2)**(1/4)/5 - 2*(1 - x**2)**(1/4)/5"
            ],
            "text/latex": "$\\displaystyle \\frac{2 x^{2} \\sqrt[4]{1 - x^{2}}}{5} - \\frac{2 \\sqrt[4]{1 - x^{2}}}{5}$"
          },
          "metadata": {},
          "execution_count": 17
        }
      ],
      "source": [
        "smp.integrate((x*(1-x**2)**smp.Rational(1,4)),x)"
      ]
    },
    {
      "cell_type": "markdown",
      "metadata": {
        "id": "3ot8qaDo-JCn"
      },
      "source": [
        "$$\n",
        "\\int \\frac{(2x-1)\\cos(\\sqrt{3(2x-1)^2 + 6})}{\\sqrt{3(2x-1)^2 +6}} dx\n",
        "$$"
      ]
    },
    {
      "cell_type": "code",
      "execution_count": 18,
      "metadata": {
        "colab": {
          "base_uri": "https://localhost:8080/",
          "height": 76
        },
        "id": "utQUlMyX-JCo",
        "outputId": "20740a52-9c4c-4277-d605-c9ff78e2c1cc"
      },
      "outputs": [
        {
          "output_type": "execute_result",
          "data": {
            "text/plain": [
              "sin(sqrt(3*(2*x - 1)**2 + 6))/6"
            ],
            "text/latex": "$\\displaystyle \\frac{\\sin{\\left(\\sqrt{3 \\left(2 x - 1\\right)^{2} + 6} \\right)}}{6}$"
          },
          "metadata": {},
          "execution_count": 18
        }
      ],
      "source": [
        "smp.integrate((2*x-1)*smp.cos(smp.sqrt(3*(2*x - 1)**2 + 6)) / (smp.sqrt(3*(2*x - 1)**2 + 6)) , x)"
      ]
    },
    {
      "cell_type": "markdown",
      "metadata": {
        "id": "3TIEhGmg-JCp"
      },
      "source": [
        "## 6. Definite Integrals\n",
        "\n",
        "$$\n",
        "\\int_{0}^{\\ln(4)} \\frac{e^{x} dt}{\\sqrt{e^{2x} + 9}}\n",
        "$$"
      ]
    },
    {
      "cell_type": "code",
      "execution_count": 19,
      "metadata": {
        "colab": {
          "base_uri": "https://localhost:8080/",
          "height": 58
        },
        "id": "w0I9jNqu-JCp",
        "outputId": "94a9794b-dbc7-40a2-b303-a8b814834899"
      },
      "outputs": [
        {
          "output_type": "execute_result",
          "data": {
            "text/plain": [
              "-asinh(1/3) + asinh(4/3)"
            ],
            "text/latex": "$\\displaystyle - \\operatorname{asinh}{\\left(\\frac{1}{3} \\right)} + \\operatorname{asinh}{\\left(\\frac{4}{3} \\right)}$"
          },
          "metadata": {},
          "execution_count": 19
        }
      ],
      "source": [
        "smp.integrate(smp.exp(x) / smp.sqrt(smp.exp(2*x)+9) , (x,0,smp.log(4)) )"
      ]
    },
    {
      "cell_type": "markdown",
      "metadata": {
        "id": "MibBdJnk-JCq"
      },
      "source": [
        "$$\n",
        "\\int_{1}^{t} x^{10} e^{x} dx\n",
        "$$"
      ]
    },
    {
      "cell_type": "code",
      "execution_count": 20,
      "metadata": {
        "colab": {
          "base_uri": "https://localhost:8080/",
          "height": 39
        },
        "id": "-zbzKaqq-JCr",
        "outputId": "7445f1e0-9a79-43bc-9de7-baf21bc02809"
      },
      "outputs": [
        {
          "output_type": "execute_result",
          "data": {
            "text/plain": [
              "(t**10 - 10*t**9 + 90*t**8 - 720*t**7 + 5040*t**6 - 30240*t**5 + 151200*t**4 - 604800*t**3 + 1814400*t**2 - 3628800*t + 3628800)*exp(t) - 1334961*E"
            ],
            "text/latex": "$\\displaystyle \\left(t^{10} - 10 t^{9} + 90 t^{8} - 720 t^{7} + 5040 t^{6} - 30240 t^{5} + 151200 t^{4} - 604800 t^{3} + 1814400 t^{2} - 3628800 t + 3628800\\right) e^{t} - 1334961 e$"
          },
          "metadata": {},
          "execution_count": 20
        }
      ],
      "source": [
        "t = smp.symbols('t')\n",
        "smp.integrate( (x**(10) * smp.exp(x)), (x,1,t) )"
      ]
    },
    {
      "cell_type": "markdown",
      "metadata": {
        "id": "r_3AGygc-JCt"
      },
      "source": [
        "## 7. Improper Integrals\n",
        "\n",
        "$$\n",
        "\\int_{0}^{\\infty} \\frac{16\\tan^{-1}(x)}{1+x^{2}} dx\n",
        "$$"
      ]
    },
    {
      "cell_type": "code",
      "execution_count": 21,
      "metadata": {
        "colab": {
          "base_uri": "https://localhost:8080/",
          "height": 39
        },
        "id": "aWyOB1an-JCt",
        "outputId": "99f83667-6d9d-4a25-9e14-4e02274fc3cc"
      },
      "outputs": [
        {
          "output_type": "execute_result",
          "data": {
            "text/plain": [
              "2*pi**2"
            ],
            "text/latex": "$\\displaystyle 2 \\pi^{2}$"
          },
          "metadata": {},
          "execution_count": 21
        }
      ],
      "source": [
        "smp.integrate( (16*smp.atan(x) / (1+x**2)), (x,0,smp.oo) )"
      ]
    },
    {
      "cell_type": "markdown",
      "metadata": {
        "id": "CJa_-Pti-JCu"
      },
      "source": [
        "## 8. Sequences and Series"
      ]
    },
    {
      "cell_type": "code",
      "execution_count": 22,
      "metadata": {
        "id": "sXdP-lW1-JCv"
      },
      "outputs": [],
      "source": [
        "n = smp.symbols('n')"
      ]
    },
    {
      "cell_type": "markdown",
      "metadata": {
        "id": "1LW62AfA-JCw"
      },
      "source": [
        "$$\n",
        "\\sum_{n = 0}^{\\infty} \\frac{6}{4^n}\n",
        "$$"
      ]
    },
    {
      "cell_type": "code",
      "execution_count": 23,
      "metadata": {
        "colab": {
          "base_uri": "https://localhost:8080/",
          "height": 37
        },
        "id": "fZMMzH6a-JCw",
        "outputId": "f7fcf5a8-c442-4305-d4cf-8ce8e7675014"
      },
      "outputs": [
        {
          "output_type": "execute_result",
          "data": {
            "text/plain": [
              "8"
            ],
            "text/latex": "$\\displaystyle 8$"
          },
          "metadata": {},
          "execution_count": 23
        }
      ],
      "source": [
        "smp.Sum((6/4**n),(n,0,smp.oo)).doit()"
      ]
    },
    {
      "cell_type": "markdown",
      "metadata": {
        "id": "gPd-gHcf-JCx"
      },
      "source": [
        "$$\n",
        "\\sum_{n=0}^{\\infty} \\frac{2^{n+1}}{5^n}\n",
        "$$"
      ]
    },
    {
      "cell_type": "code",
      "execution_count": 24,
      "metadata": {
        "colab": {
          "base_uri": "https://localhost:8080/",
          "height": 51
        },
        "id": "Ubi4honW-JCy",
        "outputId": "7cfbd85a-a670-42ef-8383-f80a89243777"
      },
      "outputs": [
        {
          "output_type": "execute_result",
          "data": {
            "text/plain": [
              "10/3"
            ],
            "text/latex": "$\\displaystyle \\frac{10}{3}$"
          },
          "metadata": {},
          "execution_count": 24
        }
      ],
      "source": [
        "smp.Sum( (2**(n+1) / 5**(n)), (n,0,smp.oo) ).doit()"
      ]
    },
    {
      "cell_type": "markdown",
      "metadata": {
        "id": "iJW2JsAQ-JCz"
      },
      "source": [
        "$$\n",
        "\\sum_{n=1}^{\\infty} \\frac{\\tan^{-1}{n}}{n^{1.1}}\n",
        "$$"
      ]
    },
    {
      "cell_type": "code",
      "execution_count": 25,
      "metadata": {
        "colab": {
          "base_uri": "https://localhost:8080/",
          "height": 66
        },
        "id": "P46v0Bwp-JC0",
        "outputId": "8f95d7e4-944b-401d-9da6-84c031562125"
      },
      "outputs": [
        {
          "output_type": "execute_result",
          "data": {
            "text/plain": [
              "Sum(atan(n)/n**(11/10), (n, 1, oo))"
            ],
            "text/latex": "$\\displaystyle \\sum_{n=1}^{\\infty} \\frac{\\operatorname{atan}{\\left(n \\right)}}{n^{\\frac{11}{10}}}$"
          },
          "metadata": {},
          "execution_count": 25
        }
      ],
      "source": [
        "smp.Sum( (smp.atan(n) / n**smp.Rational(11,10)) , (n,1,smp.oo) ).doit()"
      ]
    },
    {
      "cell_type": "code",
      "execution_count": 26,
      "metadata": {
        "colab": {
          "base_uri": "https://localhost:8080/",
          "height": 37
        },
        "id": "n0vbcQPp-JC0",
        "outputId": "a51c3d92-e7ff-4744-98c9-2e6329170e38"
      },
      "outputs": [
        {
          "output_type": "execute_result",
          "data": {
            "text/plain": [
              "15.3028821020457"
            ],
            "text/latex": "$\\displaystyle 15.3028821020457$"
          },
          "metadata": {},
          "execution_count": 26
        }
      ],
      "source": [
        "smp.Sum( (smp.atan(n) / n**smp.Rational(11,10)) , (n,1,smp.oo) ).n()"
      ]
    },
    {
      "cell_type": "markdown",
      "metadata": {
        "id": "yrw4m8AX-JC1"
      },
      "source": [
        "$$\n",
        "\\sum_{n=1}^{\\infty} \\frac{1+\\cos{n}}{n}\n",
        "$$"
      ]
    },
    {
      "cell_type": "code",
      "execution_count": 27,
      "metadata": {
        "colab": {
          "base_uri": "https://localhost:8080/",
          "height": 66
        },
        "id": "_4vI2fFM-JC2",
        "outputId": "44e19468-0713-4d60-e2be-e29a2ab334d0"
      },
      "outputs": [
        {
          "output_type": "execute_result",
          "data": {
            "text/plain": [
              "Sum((cos(n) + 1)/n, (n, 1, oo))"
            ],
            "text/latex": "$\\displaystyle \\sum_{n=1}^{\\infty} \\frac{\\cos{\\left(n \\right)} + 1}{n}$"
          },
          "metadata": {},
          "execution_count": 27
        }
      ],
      "source": [
        "smp.Sum( ((1+smp.cos(n))/n) , (n,1,smp.oo) ).doit()"
      ]
    },
    {
      "cell_type": "code",
      "execution_count": 28,
      "metadata": {
        "colab": {
          "base_uri": "https://localhost:8080/",
          "height": 37
        },
        "id": "OLLLhgbL-JC3",
        "outputId": "e6de90b9-cb9f-48f5-a128-6737cf9e3f84"
      },
      "outputs": [
        {
          "output_type": "execute_result",
          "data": {
            "text/plain": [
              "0.e+2"
            ],
            "text/latex": "$\\displaystyle 3.0 \\cdot 10^{2}$"
          },
          "metadata": {},
          "execution_count": 28
        }
      ],
      "source": [
        "smp.Sum( ((1+smp.cos(n))/n) , (n,1,smp.oo) ).n()  ## the series diverges\n",
        "                                                  ## so the answer here is wrong"
      ]
    },
    {
      "cell_type": "markdown",
      "metadata": {
        "id": "zSet-I2F-JC4"
      },
      "source": [
        "$$\n",
        "\\sum_{n=1}^{\\infty} \\frac{1+\\cos{n}}{n^2}\n",
        "$$"
      ]
    },
    {
      "cell_type": "code",
      "execution_count": 29,
      "metadata": {
        "colab": {
          "base_uri": "https://localhost:8080/",
          "height": 66
        },
        "id": "IXY6qvdm-JC4",
        "outputId": "cdf628d4-d84f-47a3-cf08-4cb0d3822784"
      },
      "outputs": [
        {
          "output_type": "execute_result",
          "data": {
            "text/plain": [
              "Sum((cos(n) + 1)/n**2, (n, 1, oo))"
            ],
            "text/latex": "$\\displaystyle \\sum_{n=1}^{\\infty} \\frac{\\cos{\\left(n \\right)} + 1}{n^{2}}$"
          },
          "metadata": {},
          "execution_count": 29
        }
      ],
      "source": [
        "smp.Sum( ((1+smp.cos(n))/n**2) , (n,1,smp.oo) ).doit()"
      ]
    },
    {
      "cell_type": "code",
      "execution_count": 30,
      "metadata": {
        "colab": {
          "base_uri": "https://localhost:8080/",
          "height": 37
        },
        "id": "GIyKkxDR-JC5",
        "outputId": "8de38c86-8e5a-47c6-ae14-610e2684fa9f"
      },
      "outputs": [
        {
          "output_type": "execute_result",
          "data": {
            "text/plain": [
              "1.969"
            ],
            "text/latex": "$\\displaystyle 1.969$"
          },
          "metadata": {},
          "execution_count": 30
        }
      ],
      "source": [
        "smp.Sum( ((1+smp.cos(n))/n**2) , (n,1,smp.oo) ).n()"
      ]
    }
  ],
  "metadata": {
    "kernelspec": {
      "display_name": "Python 3",
      "language": "python",
      "name": "python3"
    },
    "language_info": {
      "codemirror_mode": {
        "name": "ipython",
        "version": 3
      },
      "file_extension": ".py",
      "mimetype": "text/x-python",
      "name": "python",
      "nbconvert_exporter": "python",
      "pygments_lexer": "ipython3",
      "version": "3.11.1"
    },
    "vscode": {
      "interpreter": {
        "hash": "cfda8635c9eecc896b3c721121da8a50ab91e909b2ca0473fb43f2334248cebb"
      }
    },
    "colab": {
      "provenance": [],
      "include_colab_link": true
    }
  },
  "nbformat": 4,
  "nbformat_minor": 0
}