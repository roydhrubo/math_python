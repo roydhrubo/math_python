{
  "cells": [
    {
      "cell_type": "code",
      "execution_count": 1,
      "metadata": {
        "id": "IZwpITVrBpXN"
      },
      "outputs": [],
      "source": [
        "import numpy as np\n",
        "import sympy as smp\n",
        "from sympy.vector import *\n",
        "import matplotlib.pyplot as plt\n",
        "from scipy.integrate import quad\n",
        "from scipy.integrate import quad_vec"
      ]
    },
    {
      "cell_type": "code",
      "execution_count": 2,
      "metadata": {
        "id": "EEPAB1DCBpXc"
      },
      "outputs": [],
      "source": [
        "# This is supposed to display all the outputs\n",
        "\n",
        "from IPython.core.interactiveshell import InteractiveShell\n",
        "InteractiveShell.ast_node_interactivity = 'all'"
      ]
    },
    {
      "cell_type": "code",
      "execution_count": 3,
      "metadata": {
        "id": "NaJ1sXghBpXf"
      },
      "outputs": [],
      "source": [
        "x, y, z, u1, u2, u3, v1, v2, v3, t = smp.symbols('x, y, z, u1, u2, u3, v1, v2, v3, t')"
      ]
    },
    {
      "cell_type": "markdown",
      "metadata": {
        "id": "6VDooDlvBpXh"
      },
      "source": [
        "## 1. Vectors & Geometry"
      ]
    },
    {
      "cell_type": "markdown",
      "metadata": {
        "id": "1pXJxRsvBpXm"
      },
      "source": [
        "#### Numerical or Symbolic"
      ]
    },
    {
      "cell_type": "code",
      "execution_count": 4,
      "metadata": {
        "id": "F-Cvd117BpXo"
      },
      "outputs": [],
      "source": [
        "a = np.array([1,2,3])\n",
        "b = np.array([7,8,9])\n",
        "u = smp.Matrix([u1,u2,u3])\n",
        "v = smp.Matrix([v1,v2,v3])"
      ]
    },
    {
      "cell_type": "markdown",
      "metadata": {
        "id": "7DNxtBTHBpXp"
      },
      "source": [
        "#### Addition and Multiplication"
      ]
    },
    {
      "cell_type": "code",
      "execution_count": 5,
      "metadata": {
        "colab": {
          "base_uri": "https://localhost:8080/",
          "height": 97
        },
        "id": "5X7MkFKXBpXr",
        "outputId": "0ac0214b-d3d2-4e08-9684-3215aee680ed"
      },
      "outputs": [
        {
          "output_type": "stream",
          "name": "stdout",
          "text": [
            "2*(a+b) =  [16 20 24]\n"
          ]
        },
        {
          "output_type": "execute_result",
          "data": {
            "text/plain": [
              "Matrix([\n",
              "[2],\n",
              "[4],\n",
              "[6]])"
            ],
            "text/latex": "$\\displaystyle \\left[\\begin{matrix}2\\\\4\\\\6\\end{matrix}\\right]$"
          },
          "metadata": {},
          "execution_count": 5
        }
      ],
      "source": [
        "print( '2*(a+b) = ',  2*(a+b) )\n",
        "u.subs([(u1,1),(u2,2),(u3,3)])+v.subs([(v1,1),(v2,2),(v3,3)])"
      ]
    },
    {
      "cell_type": "markdown",
      "metadata": {
        "id": "tVm06aoTBpXu"
      },
      "source": [
        "#### Dot Product"
      ]
    },
    {
      "cell_type": "code",
      "execution_count": 6,
      "metadata": {
        "colab": {
          "base_uri": "https://localhost:8080/"
        },
        "id": "0zWtNBf1BpXw",
        "outputId": "e8d2c5b7-a530-46bc-a5f9-f02017d652f2"
      },
      "outputs": [
        {
          "output_type": "stream",
          "name": "stdout",
          "text": [
            "50\n",
            "50\n"
          ]
        },
        {
          "output_type": "execute_result",
          "data": {
            "text/plain": [
              "array([[u1*v1 + u2*v2 + u3*v3]], dtype=object)"
            ]
          },
          "metadata": {},
          "execution_count": 6
        }
      ],
      "source": [
        "print(np.dot(a,b))\n",
        "print(a.dot(b))\n",
        "np.dot(v.transpose(),u)"
      ]
    },
    {
      "cell_type": "code",
      "execution_count": 7,
      "metadata": {
        "colab": {
          "base_uri": "https://localhost:8080/",
          "height": 39
        },
        "id": "hoowfsYQBpXx",
        "outputId": "afed9dd2-d1db-44c4-b930-26314b45026b"
      },
      "outputs": [
        {
          "output_type": "execute_result",
          "data": {
            "text/plain": [
              "u1*v1 + u2*v2 + u3*v3"
            ],
            "text/latex": "$\\displaystyle u_{1} v_{1} + u_{2} v_{2} + u_{3} v_{3}$"
          },
          "metadata": {},
          "execution_count": 7
        }
      ],
      "source": [
        "u.dot(v)"
      ]
    },
    {
      "cell_type": "code",
      "execution_count": 8,
      "metadata": {
        "colab": {
          "base_uri": "https://localhost:8080/",
          "height": 78
        },
        "id": "w6ni3sxDBpXy",
        "outputId": "2c05c20e-2c0f-4da2-c9e9-47b6e6a2c3db"
      },
      "outputs": [
        {
          "output_type": "execute_result",
          "data": {
            "text/plain": [
              "Matrix([[p1, p2, p3]])"
            ],
            "text/latex": "$\\displaystyle \\left[\\begin{matrix}p_{1} & p_{2} & p_{3}\\end{matrix}\\right]$"
          },
          "metadata": {},
          "execution_count": 8
        },
        {
          "output_type": "execute_result",
          "data": {
            "text/plain": [
              "array([[p1*u1 + p2*u2 + p3*u3]], dtype=object)"
            ]
          },
          "metadata": {},
          "execution_count": 8
        },
        {
          "output_type": "execute_result",
          "data": {
            "text/plain": [
              "Matrix([[u1, u2, u3]])"
            ],
            "text/latex": "$\\displaystyle \\left[\\begin{matrix}u_{1} & u_{2} & u_{3}\\end{matrix}\\right]$"
          },
          "metadata": {},
          "execution_count": 8
        }
      ],
      "source": [
        "p1, p2, p3 = smp.symbols('p1, p2, p3')\n",
        "p = smp.Matrix([[p1,p2,p3]])\n",
        "p\n",
        "np.dot(p,u)\n",
        "u.transpose()"
      ]
    },
    {
      "cell_type": "markdown",
      "metadata": {
        "id": "HEAc3LhRBpXz"
      },
      "source": [
        "#### Cross Product"
      ]
    },
    {
      "cell_type": "code",
      "execution_count": 9,
      "metadata": {
        "colab": {
          "base_uri": "https://localhost:8080/"
        },
        "id": "qlpt3O7GBpX0",
        "outputId": "92f71af0-8752-4ec9-c482-408ae219ff07"
      },
      "outputs": [
        {
          "output_type": "execute_result",
          "data": {
            "text/plain": [
              "array([-6, 12, -6])"
            ]
          },
          "metadata": {},
          "execution_count": 9
        }
      ],
      "source": [
        "np.cross(a,b)"
      ]
    },
    {
      "cell_type": "code",
      "execution_count": 10,
      "metadata": {
        "colab": {
          "base_uri": "https://localhost:8080/",
          "height": 78
        },
        "id": "5qq_SzrtBpX1",
        "outputId": "22387ef7-0e31-4cc3-9159-b4d2361ad457"
      },
      "outputs": [
        {
          "output_type": "execute_result",
          "data": {
            "text/plain": [
              "Matrix([\n",
              "[ u2*v3 - u3*v2],\n",
              "[-u1*v3 + u3*v1],\n",
              "[ u1*v2 - u2*v1]])"
            ],
            "text/latex": "$\\displaystyle \\left[\\begin{matrix}u_{2} v_{3} - u_{3} v_{2}\\\\- u_{1} v_{3} + u_{3} v_{1}\\\\u_{1} v_{2} - u_{2} v_{1}\\end{matrix}\\right]$"
          },
          "metadata": {},
          "execution_count": 10
        }
      ],
      "source": [
        "u.cross(v)"
      ]
    },
    {
      "cell_type": "markdown",
      "metadata": {
        "id": "ZR4mqhUiBpX1"
      },
      "source": [
        "#### Length of vector"
      ]
    },
    {
      "cell_type": "code",
      "execution_count": 11,
      "metadata": {
        "colab": {
          "base_uri": "https://localhost:8080/",
          "height": 86
        },
        "id": "RmaPIcxfBpX2",
        "outputId": "a56b8995-a885-4365-fa47-8a4ac3e7b47d"
      },
      "outputs": [
        {
          "output_type": "stream",
          "name": "stdout",
          "text": [
            "[1 2 3]\n",
            "3.7416573867739413\n"
          ]
        },
        {
          "output_type": "execute_result",
          "data": {
            "text/plain": [
              "sqrt(Abs(u1)**2 + Abs(u2)**2 + Abs(u3)**2)"
            ],
            "text/latex": "$\\displaystyle \\sqrt{\\left|{u_{1}}\\right|^{2} + \\left|{u_{2}}\\right|^{2} + \\left|{u_{3}}\\right|^{2}}$"
          },
          "metadata": {},
          "execution_count": 11
        }
      ],
      "source": [
        "print(a)\n",
        "print(np.linalg.norm(a))\n",
        "u.norm()"
      ]
    },
    {
      "cell_type": "markdown",
      "metadata": {
        "id": "cLIVk-pQBpX3"
      },
      "source": [
        "#### Vector Projection\n",
        "\n",
        "$\n",
        "\\text{proj}_v(u) = \\frac{u \\cdot v}{|v|^2} v\n",
        "$"
      ]
    },
    {
      "cell_type": "code",
      "execution_count": 12,
      "metadata": {
        "colab": {
          "base_uri": "https://localhost:8080/"
        },
        "id": "kEsiMXr9BpX3",
        "outputId": "795ec79f-bdef-4025-aaef-64d68977c9ff"
      },
      "outputs": [
        {
          "output_type": "execute_result",
          "data": {
            "text/plain": [
              "array([1.80412371, 2.06185567, 2.31958763])"
            ]
          },
          "metadata": {},
          "execution_count": 12
        }
      ],
      "source": [
        "proj_b_a = (np.dot(a,b)*b/np.linalg.norm(b)**2)\n",
        "proj_b_a"
      ]
    },
    {
      "cell_type": "code",
      "execution_count": 13,
      "metadata": {
        "colab": {
          "base_uri": "https://localhost:8080/",
          "height": 98
        },
        "id": "tVWJVIgQBpX4",
        "outputId": "29e11df9-d2ab-497f-a313-a46dda484eb0"
      },
      "outputs": [
        {
          "output_type": "execute_result",
          "data": {
            "text/plain": [
              "Matrix([\n",
              "[v1*(u1*v1 + u2*v2 + u3*v3)/(Abs(v1)**2 + Abs(v2)**2 + Abs(v3)**2)],\n",
              "[v2*(u1*v1 + u2*v2 + u3*v3)/(Abs(v1)**2 + Abs(v2)**2 + Abs(v3)**2)],\n",
              "[v3*(u1*v1 + u2*v2 + u3*v3)/(Abs(v1)**2 + Abs(v2)**2 + Abs(v3)**2)]])"
            ],
            "text/latex": "$\\displaystyle \\left[\\begin{matrix}\\frac{v_{1} \\left(u_{1} v_{1} + u_{2} v_{2} + u_{3} v_{3}\\right)}{\\left|{v_{1}}\\right|^{2} + \\left|{v_{2}}\\right|^{2} + \\left|{v_{3}}\\right|^{2}}\\\\\\frac{v_{2} \\left(u_{1} v_{1} + u_{2} v_{2} + u_{3} v_{3}\\right)}{\\left|{v_{1}}\\right|^{2} + \\left|{v_{2}}\\right|^{2} + \\left|{v_{3}}\\right|^{2}}\\\\\\frac{v_{3} \\left(u_{1} v_{1} + u_{2} v_{2} + u_{3} v_{3}\\right)}{\\left|{v_{1}}\\right|^{2} + \\left|{v_{2}}\\right|^{2} + \\left|{v_{3}}\\right|^{2}}\\end{matrix}\\right]$"
          },
          "metadata": {},
          "execution_count": 13
        }
      ],
      "source": [
        "proj_v_u = (u.dot(v)/v.norm()**2)*v\n",
        "proj_v_u"
      ]
    },
    {
      "cell_type": "markdown",
      "metadata": {
        "id": "tW1qmUgdBpX5"
      },
      "source": [
        "### Lines/Plans in Space\n",
        "\n",
        "$\\text{Lines}:\\vec{r}(t) = \\vec{r_0} + t\\vec{v}$"
      ]
    },
    {
      "cell_type": "code",
      "execution_count": 14,
      "metadata": {
        "colab": {
          "base_uri": "https://localhost:8080/",
          "height": 78
        },
        "id": "CWDHvLNRBpX5",
        "outputId": "4f7869da-3a3e-40f3-9749-281733b519c9"
      },
      "outputs": [
        {
          "output_type": "execute_result",
          "data": {
            "text/plain": [
              "Matrix([\n",
              "[  t + 1],\n",
              "[3*t + 1],\n",
              "[  1 - t]])"
            ],
            "text/latex": "$\\displaystyle \\left[\\begin{matrix}t + 1\\\\3 t + 1\\\\1 - t\\end{matrix}\\right]$"
          },
          "metadata": {},
          "execution_count": 14
        }
      ],
      "source": [
        "r0 = smp.Matrix([1,1,1])\n",
        "v = smp.Matrix([1,3,-1])\n",
        "r = r0 + t*v\n",
        "r"
      ]
    },
    {
      "cell_type": "markdown",
      "metadata": {
        "id": "geQL1CB4BpX5"
      },
      "source": [
        "$\\text{Planes}:\\vec{n} \\cdot (P_0 - \\langle {x,y,z} \\rangle) = 0$"
      ]
    },
    {
      "cell_type": "code",
      "execution_count": 15,
      "metadata": {
        "colab": {
          "base_uri": "https://localhost:8080/",
          "height": 39
        },
        "id": "xdNYRVhGBpX6",
        "outputId": "c61edc45-5054-44b0-e0da-a78e3f32b33d"
      },
      "outputs": [
        {
          "output_type": "execute_result",
          "data": {
            "text/plain": [
              "-x - y - z + 16"
            ],
            "text/latex": "$\\displaystyle - x - y - z + 16$"
          },
          "metadata": {},
          "execution_count": 15
        }
      ],
      "source": [
        "p0 = smp.Matrix([4,4,8])\n",
        "r = smp.Matrix([x,y,z])\n",
        "n = smp.Matrix([1,1,1])\n",
        "n.dot(p0-r)"
      ]
    },
    {
      "cell_type": "markdown",
      "metadata": {
        "id": "k3iHzaj2BpX7"
      },
      "source": [
        " **Example** : Find the vector parallel to the line of intersection of the two planes $3x-6y-2z=15$ and $2x+y-2z=5$ (It's going to be perpendicular to both normal vectors)"
      ]
    },
    {
      "cell_type": "code",
      "execution_count": 16,
      "metadata": {
        "colab": {
          "base_uri": "https://localhost:8080/"
        },
        "id": "N-bVTD1dBpX7",
        "outputId": "9a3262d3-3499-41f8-e04f-2f1b9ba8bdc4"
      },
      "outputs": [
        {
          "output_type": "execute_result",
          "data": {
            "text/plain": [
              "array([14,  2, 15])"
            ]
          },
          "metadata": {},
          "execution_count": 16
        }
      ],
      "source": [
        "n1 = np.array([3,-6,-2])\n",
        "n2 = np.array([2,1,-2])\n",
        "ans = np.cross(n1,n2)\n",
        "ans"
      ]
    },
    {
      "cell_type": "markdown",
      "metadata": {
        "id": "Y0xuE9NABpX7"
      },
      "source": [
        "### Vector Calculus"
      ]
    },
    {
      "cell_type": "markdown",
      "metadata": {
        "id": "r_6wp_7KBpX7"
      },
      "source": [
        "#### Vector Derivatives"
      ]
    },
    {
      "cell_type": "code",
      "execution_count": 17,
      "metadata": {
        "colab": {
          "base_uri": "https://localhost:8080/",
          "height": 78
        },
        "id": "0GFnZQ-KBpX8",
        "outputId": "a9aac6fb-eb94-4876-ad9f-5629e2665a54"
      },
      "outputs": [
        {
          "output_type": "execute_result",
          "data": {
            "text/plain": [
              "Matrix([\n",
              "[   3*t],\n",
              "[sin(t)],\n",
              "[  t**2]])"
            ],
            "text/latex": "$\\displaystyle \\left[\\begin{matrix}3 t\\\\\\sin{\\left(t \\right)}\\\\t^{2}\\end{matrix}\\right]$"
          },
          "metadata": {},
          "execution_count": 17
        }
      ],
      "source": [
        "pos = smp.Matrix([3*t,smp.sin(t),t**2])\n",
        "pos"
      ]
    },
    {
      "cell_type": "code",
      "execution_count": 18,
      "metadata": {
        "colab": {
          "base_uri": "https://localhost:8080/",
          "height": 78
        },
        "id": "AT5I1SAeBpX8",
        "outputId": "bdfc05bf-b2b9-4819-d826-679df5ab1c4f"
      },
      "outputs": [
        {
          "output_type": "execute_result",
          "data": {
            "text/plain": [
              "Matrix([\n",
              "[     3],\n",
              "[cos(t)],\n",
              "[   2*t]])"
            ],
            "text/latex": "$\\displaystyle \\left[\\begin{matrix}3\\\\\\cos{\\left(t \\right)}\\\\2 t\\end{matrix}\\right]$"
          },
          "metadata": {},
          "execution_count": 18
        }
      ],
      "source": [
        "smp.diff(pos,t)"
      ]
    },
    {
      "cell_type": "markdown",
      "metadata": {
        "id": "jrFSvqcuBpX9"
      },
      "source": [
        "**Example** : Find the angle between the velocity and accelaration as a function of $\\theta(t)$"
      ]
    },
    {
      "cell_type": "code",
      "execution_count": 19,
      "metadata": {
        "colab": {
          "base_uri": "https://localhost:8080/",
          "height": 81
        },
        "id": "6WqduZMyBpX9",
        "outputId": "ab28ea5b-17fd-4b27-d60e-5d55a7a493b3"
      },
      "outputs": [
        {
          "output_type": "execute_result",
          "data": {
            "text/plain": [
              "acos((4*t - sin(t)*cos(t))/(sqrt(Abs(sin(t))**2 + 4)*sqrt(4*Abs(t)**2 + Abs(cos(t))**2 + 9)))"
            ],
            "text/latex": "$\\displaystyle \\operatorname{acos}{\\left(\\frac{4 t - \\sin{\\left(t \\right)} \\cos{\\left(t \\right)}}{\\sqrt{\\left|{\\sin{\\left(t \\right)}}\\right|^{2} + 4} \\sqrt{4 \\left|{t}\\right|^{2} + \\left|{\\cos{\\left(t \\right)}}\\right|^{2} + 9}} \\right)}$"
          },
          "metadata": {},
          "execution_count": 19
        }
      ],
      "source": [
        "vel = smp.diff(pos,t)\n",
        "acc = smp.diff(vel,t)\n",
        "theta = smp.acos( vel.dot(acc) / (vel.norm() * acc.norm()) )\n",
        "theta"
      ]
    },
    {
      "cell_type": "code",
      "execution_count": 20,
      "metadata": {
        "colab": {
          "base_uri": "https://localhost:8080/",
          "height": 37
        },
        "id": "lC-3kWTTBpX9",
        "outputId": "06498bf8-57c6-486b-a00a-d048a7150ac0"
      },
      "outputs": [
        {
          "output_type": "execute_result",
          "data": {
            "text/plain": [
              "1.37965431672865"
            ],
            "text/latex": "$\\displaystyle 1.37965431672865$"
          },
          "metadata": {},
          "execution_count": 20
        }
      ],
      "source": [
        "theta.subs(t,0.4040404).evalf()"
      ]
    },
    {
      "cell_type": "code",
      "execution_count": 21,
      "metadata": {
        "id": "50y4aQFaBpX-"
      },
      "outputs": [],
      "source": [
        "time_tt = np.linspace(0,10,100)\n",
        "angle_aa = smp.lambdify([t],theta)(time_tt)"
      ]
    },
    {
      "cell_type": "code",
      "execution_count": 22,
      "metadata": {
        "colab": {
          "base_uri": "https://localhost:8080/",
          "height": 307
        },
        "id": "aalTnTz1BpX-",
        "outputId": "2188aa89-e946-4884-b098-39dc751933ef"
      },
      "outputs": [
        {
          "output_type": "execute_result",
          "data": {
            "text/plain": [
              "[<matplotlib.lines.Line2D at 0x7f26742b96d0>]"
            ]
          },
          "metadata": {},
          "execution_count": 22
        },
        {
          "output_type": "execute_result",
          "data": {
            "text/plain": [
              "Text(0.5, 0, '$t$')"
            ]
          },
          "metadata": {},
          "execution_count": 22
        },
        {
          "output_type": "execute_result",
          "data": {
            "text/plain": [
              "Text(0, 0.5, '$\\\\theta(t)$')"
            ]
          },
          "metadata": {},
          "execution_count": 22
        },
        {
          "output_type": "display_data",
          "data": {
            "text/plain": [
              "<Figure size 432x288 with 1 Axes>"
            ],
            "image/png": "[encoded data removed]"
          },
          "metadata": {
            "needs_background": "light"
          }
        }
      ],
      "source": [
        "# plot usong matplotlib\n",
        "plt.plot(time_tt,angle_aa)\n",
        "plt.xlabel('$t$',fontsize=20)\n",
        "plt.ylabel(r'$\\theta(t)$',fontsize=20)\n",
        "plt.show()"
      ]
    },
    {
      "cell_type": "markdown",
      "metadata": {
        "id": "h2eg-mVnBpX-"
      },
      "source": [
        "#### Vector Integrals"
      ]
    },
    {
      "cell_type": "code",
      "execution_count": 23,
      "metadata": {
        "colab": {
          "base_uri": "https://localhost:8080/",
          "height": 79
        },
        "id": "zYUWxPxyBpX_",
        "outputId": "6ff39089-12fd-4fe9-deca-0f2848a44ec8"
      },
      "outputs": [
        {
          "output_type": "execute_result",
          "data": {
            "text/plain": [
              "Matrix([\n",
              "[exp(t)*cos(t)],\n",
              "[         t**4],\n",
              "[ 1/(t**2 + 1)]])"
            ],
            "text/latex": "$\\displaystyle \\left[\\begin{matrix}e^{t} \\cos{\\left(t \\right)}\\\\t^{4}\\\\\\frac{1}{t^{2} + 1}\\end{matrix}\\right]$"
          },
          "metadata": {},
          "execution_count": 23
        }
      ],
      "source": [
        "r = smp.Matrix([smp.exp(t)*smp.cos(t), t**4, 1/(t**2 + 1)])\n",
        "r"
      ]
    },
    {
      "cell_type": "code",
      "execution_count": 24,
      "metadata": {
        "colab": {
          "base_uri": "https://localhost:8080/",
          "height": 88
        },
        "id": "I9xSlx7GBpX_",
        "outputId": "9e232fee-27f3-4ba5-fcb4-ae37dd2495c0"
      },
      "outputs": [
        {
          "output_type": "execute_result",
          "data": {
            "text/plain": [
              "Matrix([\n",
              "[exp(t)*sin(t)/2 + exp(t)*cos(t)/2],\n",
              "[                           t**5/5],\n",
              "[                          atan(t)]])"
            ],
            "text/latex": "$\\displaystyle \\left[\\begin{matrix}\\frac{e^{t} \\sin{\\left(t \\right)}}{2} + \\frac{e^{t} \\cos{\\left(t \\right)}}{2}\\\\\\frac{t^{5}}{5}\\\\\\operatorname{atan}{\\left(t \\right)}\\end{matrix}\\right]$"
          },
          "metadata": {},
          "execution_count": 24
        }
      ],
      "source": [
        "smp.Integral(r,t).doit()"
      ]
    },
    {
      "cell_type": "code",
      "execution_count": 25,
      "metadata": {
        "colab": {
          "base_uri": "https://localhost:8080/",
          "height": 88
        },
        "id": "c0W77lwnBpX_",
        "outputId": "05cb7446-3361-40ba-d998-37004ea18766"
      },
      "outputs": [
        {
          "output_type": "execute_result",
          "data": {
            "text/plain": [
              "Matrix([\n",
              "[exp(t)*sin(t)/2 + exp(t)*cos(t)/2],\n",
              "[                           t**5/5],\n",
              "[                          atan(t)]])"
            ],
            "text/latex": "$\\displaystyle \\left[\\begin{matrix}\\frac{e^{t} \\sin{\\left(t \\right)}}{2} + \\frac{e^{t} \\cos{\\left(t \\right)}}{2}\\\\\\frac{t^{5}}{5}\\\\\\operatorname{atan}{\\left(t \\right)}\\end{matrix}\\right]$"
          },
          "metadata": {},
          "execution_count": 25
        }
      ],
      "source": [
        "smp.integrate(r,t)"
      ]
    },
    {
      "cell_type": "code",
      "execution_count": 26,
      "metadata": {
        "id": "LYRG-InGBpYA"
      },
      "outputs": [],
      "source": [
        "r2 = smp.Matrix([smp.exp(t**2)*smp.cos(t)**3 , smp.exp(-t**4), 1/(t**2 + 3)])"
      ]
    },
    {
      "cell_type": "markdown",
      "metadata": {
        "id": "jvyZAaBsBpYA"
      },
      "source": [
        "Integrate from $t = 0$ to $t = 4$"
      ]
    },
    {
      "cell_type": "code",
      "execution_count": 27,
      "metadata": {
        "colab": {
          "base_uri": "https://localhost:8080/"
        },
        "id": "Knn0PjFvBpYA",
        "outputId": "8f6e7651-cae6-4a9e-e79a-e3e149d9e2ea"
      },
      "outputs": [
        {
          "output_type": "execute_result",
          "data": {
            "text/plain": [
              "(array([[-4.83559254e+05],\n",
              "        [ 9.06402477e-01],\n",
              "        [ 6.70972506e-01]]), 1.1186648566521124e-05)"
            ]
          },
          "metadata": {},
          "execution_count": 27
        }
      ],
      "source": [
        "r2_num = smp.lambdify([t],r2)\n",
        "quad_vec(r2_num,0,4)    # with error"
      ]
    },
    {
      "cell_type": "code",
      "execution_count": 28,
      "metadata": {
        "colab": {
          "base_uri": "https://localhost:8080/"
        },
        "id": "A0hMb8hLBpYA",
        "outputId": "b2db8358-ebc8-4a97-ac77-1b6d80e6c6db"
      },
      "outputs": [
        {
          "output_type": "execute_result",
          "data": {
            "text/plain": [
              "array([[-4.83559254e+05],\n",
              "       [ 9.06402477e-01],\n",
              "       [ 6.70972506e-01]])"
            ]
          },
          "metadata": {},
          "execution_count": 28
        }
      ],
      "source": [
        "quad_vec(r2_num,0,4)[0]     # if we don't want the error"
      ]
    },
    {
      "cell_type": "markdown",
      "metadata": {
        "id": "I7JelXWrBpYB"
      },
      "source": [
        "### Arclength"
      ]
    },
    {
      "cell_type": "markdown",
      "metadata": {
        "id": "g0Mvdg-RBpYB"
      },
      "source": [
        "$$\n",
        "L = \\int_{a}^{b} \\sqrt{dx^2 + dy^2 + dz^2} = \\int_{a}^{b} \\sqrt{\\left(\\frac{dx}{dt}\\right)^2 + \\left(\\frac{dy}{dt}\\right)^2 + \\left(\\frac{dz}{dt}\\right)^2 dt}\n",
        "$$"
      ]
    },
    {
      "cell_type": "markdown",
      "metadata": {
        "id": "c9FApNElBpYB"
      },
      "source": [
        "Rare Cases can be done symbolically. Find Arclength of\n",
        "$\\langle {0,t,t^2} \\rangle$ from $t = 0$ to $t = 1$ "
      ]
    },
    {
      "cell_type": "code",
      "execution_count": 29,
      "metadata": {
        "colab": {
          "base_uri": "https://localhost:8080/",
          "height": 55
        },
        "id": "HjXeLvN7BpYB",
        "outputId": "dd11cf51-014d-498e-a51a-af9461c8899c"
      },
      "outputs": [
        {
          "output_type": "execute_result",
          "data": {
            "text/plain": [
              "asinh(2)/4 + sqrt(5)/2"
            ],
            "text/latex": "$\\displaystyle \\frac{\\operatorname{asinh}{\\left(2 \\right)}}{4} + \\frac{\\sqrt{5}}{2}$"
          },
          "metadata": {},
          "execution_count": 29
        }
      ],
      "source": [
        "r3 = smp.Matrix([0, t, t**2])\n",
        "smp.integrate(smp.diff(r3,t).norm() , (t,0,1))"
      ]
    },
    {
      "cell_type": "markdown",
      "metadata": {
        "id": "HBO0lh4rBpYC"
      },
      "source": [
        "In most cases it needs to be done numerically.\n",
        "Find Arclength of $\\langle {e^{t}, \\sin(t), t^4} \\rangle $ from\n",
        "$t = 0$ to $t = 1$"
      ]
    },
    {
      "cell_type": "code",
      "execution_count": 30,
      "metadata": {
        "colab": {
          "base_uri": "https://localhost:8080/"
        },
        "id": "NqYrd-GsBpYC",
        "outputId": "d078c14d-6e5c-4956-a9ee-8cf9c5197ead"
      },
      "outputs": [
        {
          "output_type": "execute_result",
          "data": {
            "text/plain": [
              "2.316977146444862"
            ]
          },
          "metadata": {},
          "execution_count": 30
        }
      ],
      "source": [
        "r4 = smp.Matrix([smp.exp(t), smp.sin(t), t**4])\n",
        "r4_num = smp.lambdify([t], smp.diff(r4,t).norm() )\n",
        "quad(r4_num, 0, 1)[0]"
      ]
    },
    {
      "cell_type": "markdown",
      "metadata": {
        "id": "_M8eZNveBpYC"
      },
      "source": [
        "### Other Relavent quantities"
      ]
    },
    {
      "cell_type": "markdown",
      "metadata": {
        "id": "1iyWqsUNBpYC"
      },
      "source": [
        "if $ds = \\sqrt{dx^2 + dy^2 + dz^2}$ is the arclength element,    \n",
        "$ds/dt = \\sqrt{(dx/dt)^2 + (dy/dt)^2 + (dz/dt)^2} = |d\\vec{r} / dt| = |\\vec{v}|$  \n",
        "then the other important quantities are  "
      ]
    },
    {
      "cell_type": "markdown",
      "metadata": {
        "id": "eNopsh8ZBpYC"
      },
      "source": [
        "- Unit Tangent vector : $\\hat{T} = \\frac{d\\vec{r}}{dt} \\frac{1}{|d\\vec{r}/dt|} = \\frac{\\vec{v}}{|\\vec{v}|}$   \n",
        "- Curvature : $\\kappa = |\\frac{d\\vec{T}}{dt}| \\frac{1}{|\\vec{v}|}$   \n",
        "- Unit Normal Vector to Curve : $\\hat{N} = \\frac {d\\vec{T}/dt} {|d\\vec{T}/dt|}$"
      ]
    },
    {
      "cell_type": "markdown",
      "metadata": {
        "id": "v4hJMJ_VBpYD"
      },
      "source": [
        "**Example** : Find all these for $\\vec{r}(t) = \\langle {a\\cos(t)e^{t}, b\\sin(t), ct} \\rangle $"
      ]
    },
    {
      "cell_type": "code",
      "execution_count": 31,
      "metadata": {
        "id": "b4ne6SuxBpYD"
      },
      "outputs": [],
      "source": [
        "t, a, b,c = smp.symbols('t, a, b, c', pos=True, real=True) "
      ]
    },
    {
      "cell_type": "markdown",
      "metadata": {
        "id": "rmneKf8yBpYD"
      },
      "source": [
        "Define the path"
      ]
    },
    {
      "cell_type": "code",
      "execution_count": 32,
      "metadata": {
        "colab": {
          "base_uri": "https://localhost:8080/",
          "height": 78
        },
        "id": "fvVXJIIOBpYD",
        "outputId": "508555df-e85d-4858-f963-140cfa5aeb9e"
      },
      "outputs": [
        {
          "output_type": "execute_result",
          "data": {
            "text/plain": [
              "Matrix([\n",
              "[a*exp(t)*cos(t)],\n",
              "[       b*sin(t)],\n",
              "[            c*t]])"
            ],
            "text/latex": "$\\displaystyle \\left[\\begin{matrix}a e^{t} \\cos{\\left(t \\right)}\\\\b \\sin{\\left(t \\right)}\\\\c t\\end{matrix}\\right]$"
          },
          "metadata": {},
          "execution_count": 32
        }
      ],
      "source": [
        "r = smp.Matrix([a*smp.cos(t)*smp.exp(t), b*smp.sin(t), c*t])\n",
        "r"
      ]
    },
    {
      "cell_type": "markdown",
      "metadata": {
        "id": "As-spYHVBpYD"
      },
      "source": [
        "Define the velocity vector $\\vec{v}$ and speed $|\\vec{v}|$"
      ]
    },
    {
      "cell_type": "code",
      "execution_count": 33,
      "metadata": {
        "id": "0Xy_CQeZBpYE"
      },
      "outputs": [],
      "source": [
        "v = smp.diff(r,t)\n",
        "v_norm = v.norm()"
      ]
    },
    {
      "cell_type": "markdown",
      "metadata": {
        "id": "1IZ2p_BUBpYE"
      },
      "source": [
        "Get $\\hat{T}, \\kappa, \\hat{N}$"
      ]
    },
    {
      "cell_type": "code",
      "execution_count": 34,
      "metadata": {
        "id": "RA95bOSKBpYE"
      },
      "outputs": [],
      "source": [
        "T = v/v_norm\n",
        "kappa = smp.diff(T,t).norm() / v_norm\n",
        "N = smp.diff(T,t) / smp.diff(T,t).norm()"
      ]
    },
    {
      "cell_type": "markdown",
      "metadata": {
        "id": "v0ena-cJBpYE"
      },
      "source": [
        "Can evaluate the values in certain points"
      ]
    },
    {
      "cell_type": "code",
      "execution_count": 35,
      "metadata": {
        "colab": {
          "base_uri": "https://localhost:8080/",
          "height": 37
        },
        "id": "6UymRlcIBpYF",
        "outputId": "b81d60fa-a155-41b3-876f-845e1a82a85a"
      },
      "outputs": [
        {
          "output_type": "execute_result",
          "data": {
            "text/plain": [
              "0.00775458595406284"
            ],
            "text/latex": "$\\displaystyle 0.00775458595406284$"
          },
          "metadata": {},
          "execution_count": 35
        }
      ],
      "source": [
        "kappa.subs([(t,2), (a,3), (b,4), (c,5)]).evalf()"
      ]
    },
    {
      "cell_type": "code",
      "execution_count": 36,
      "metadata": {
        "colab": {
          "base_uri": "https://localhost:8080/",
          "height": 78
        },
        "id": "jf_yoADRBpYF",
        "outputId": "871aa650-c269-4895-ec09-fe4d28677b11"
      },
      "outputs": [
        {
          "output_type": "execute_result",
          "data": {
            "text/plain": [
              "Matrix([\n",
              "[-0.152946073876551],\n",
              "[-0.204518432770271],\n",
              "[-0.966840063890063]])"
            ],
            "text/latex": "$\\displaystyle \\left[\\begin{matrix}-0.152946073876551\\\\-0.204518432770271\\\\-0.966840063890063\\end{matrix}\\right]$"
          },
          "metadata": {},
          "execution_count": 36
        }
      ],
      "source": [
        "N.subs([(t,2), (a,3), (b,4), (c,5)]).evalf()"
      ]
    },
    {
      "cell_type": "markdown",
      "metadata": {
        "id": "hZHP8292BpYF"
      },
      "source": [
        "Can make continuous plots"
      ]
    },
    {
      "cell_type": "code",
      "execution_count": 37,
      "metadata": {
        "id": "Zzc6ipkoBpYF"
      },
      "outputs": [],
      "source": [
        "kappa_num = smp.lambdify([t,a,b,c],kappa)"
      ]
    },
    {
      "cell_type": "code",
      "execution_count": 38,
      "metadata": {
        "id": "DRLdPGFKBpYG"
      },
      "outputs": [],
      "source": [
        "tt = np.linspace(0,2,100)\n",
        "kk = kappa_num(tt, 3, 4, 5)"
      ]
    },
    {
      "cell_type": "code",
      "execution_count": 39,
      "metadata": {
        "colab": {
          "base_uri": "https://localhost:8080/",
          "height": 304
        },
        "id": "RFUobjfxBpYG",
        "outputId": "7c3c5a52-78b2-48df-b754-5de3a8fc3dc2"
      },
      "outputs": [
        {
          "output_type": "execute_result",
          "data": {
            "text/plain": [
              "[<matplotlib.lines.Line2D at 0x7f2673b0d880>]"
            ]
          },
          "metadata": {},
          "execution_count": 39
        },
        {
          "output_type": "execute_result",
          "data": {
            "text/plain": [
              "Text(0.5, 0, '$t$')"
            ]
          },
          "metadata": {},
          "execution_count": 39
        },
        {
          "output_type": "execute_result",
          "data": {
            "text/plain": [
              "Text(0, 0.5, '$\\\\kappa(t)$')"
            ]
          },
          "metadata": {},
          "execution_count": 39
        },
        {
          "output_type": "display_data",
          "data": {
            "text/plain": [
              "<Figure size 432x288 with 1 Axes>"
            ],
            "image/png": "[encoded data removed]"
          },
          "metadata": {
            "needs_background": "light"
          }
        }
      ],
      "source": [
        "plt.plot(tt,kk)\n",
        "plt.xlabel('$t$',fontsize=15)\n",
        "plt.ylabel('$\\kappa(t)$',fontsize=15)\n",
        "plt.show()"
      ]
    },
    {
      "cell_type": "markdown",
      "metadata": {
        "id": "qB1QRaTXBpYG"
      },
      "source": [
        "## 2. Partial/Directional Derivatives"
      ]
    },
    {
      "cell_type": "code",
      "execution_count": 40,
      "metadata": {
        "id": "-UP-ZzKvBpYG"
      },
      "outputs": [],
      "source": [
        "x, y, z = smp.symbols('x, y, z')"
      ]
    },
    {
      "cell_type": "markdown",
      "metadata": {
        "id": "ANxmR0oUBpYG"
      },
      "source": [
        "### Basics\n",
        "\n",
        "Partial Derivatives $\\frac{\\partial{f}}{\\partial{x}}$ and $\\frac{\\partial{f}}{\\partial{y}}$ of $f(x,y) = y^2 \\sin(x+y)$"
      ]
    },
    {
      "cell_type": "code",
      "execution_count": 41,
      "metadata": {
        "id": "MindeG0eBpYH"
      },
      "outputs": [],
      "source": [
        "f = y**2 * smp.sin(x+y)\n",
        "df_dx = smp.diff(f,x)\n",
        "df_dy = smp.diff(f,y)"
      ]
    },
    {
      "cell_type": "markdown",
      "metadata": {
        "id": "hz84IFBjBpYH"
      },
      "source": [
        "or little complicated things like $\\frac{\\partial^3{f}}{\\partial{xy^2}}$"
      ]
    },
    {
      "cell_type": "code",
      "execution_count": 42,
      "metadata": {
        "id": "0aUv7dvHBpYH"
      },
      "outputs": [],
      "source": [
        "df3_dxy2 = smp.diff(f,x,y,y)"
      ]
    },
    {
      "cell_type": "code",
      "execution_count": 43,
      "metadata": {
        "colab": {
          "base_uri": "https://localhost:8080/",
          "height": 83
        },
        "id": "NoyI-XLQBpYH",
        "outputId": "72168ffd-d937-42ff-ca68-1ed5100c6c12"
      },
      "outputs": [
        {
          "output_type": "execute_result",
          "data": {
            "text/plain": [
              "y**2*cos(x + y)"
            ],
            "text/latex": "$\\displaystyle y^{2} \\cos{\\left(x + y \\right)}$"
          },
          "metadata": {},
          "execution_count": 43
        },
        {
          "output_type": "execute_result",
          "data": {
            "text/plain": [
              "y**2*cos(x + y) + 2*y*sin(x + y)"
            ],
            "text/latex": "$\\displaystyle y^{2} \\cos{\\left(x + y \\right)} + 2 y \\sin{\\left(x + y \\right)}$"
          },
          "metadata": {},
          "execution_count": 43
        },
        {
          "output_type": "execute_result",
          "data": {
            "text/plain": [
              "-y**2*cos(x + y) - 4*y*sin(x + y) + 2*cos(x + y)"
            ],
            "text/latex": "$\\displaystyle - y^{2} \\cos{\\left(x + y \\right)} - 4 y \\sin{\\left(x + y \\right)} + 2 \\cos{\\left(x + y \\right)}$"
          },
          "metadata": {},
          "execution_count": 43
        }
      ],
      "source": [
        "df_dx \n",
        "df_dy\n",
        "df3_dxy2"
      ]
    },
    {
      "cell_type": "markdown",
      "metadata": {
        "id": "a2ZRBZ6XBpYI"
      },
      "source": [
        "### The Chain Rule"
      ]
    },
    {
      "cell_type": "code",
      "execution_count": 44,
      "metadata": {
        "id": "4Ia_WEW-BpYI"
      },
      "outputs": [],
      "source": [
        "t = smp.symbols('t')\n",
        "x, y, z, w, v = smp.symbols('x, y, z, w, v', cls=smp.Function)"
      ]
    },
    {
      "cell_type": "markdown",
      "metadata": {
        "id": "vvuP_FXWBpYI"
      },
      "source": [
        "+ Suppose $x, y,$ and $z$ are functions of $t$\n",
        "+ $w$ is a function of $x, y,$ and $z$. i.e $w = w(x, y, z)$\n",
        "\n",
        "* Find $\\frac{dw}{dt}$"
      ]
    },
    {
      "cell_type": "code",
      "execution_count": 45,
      "metadata": {
        "id": "9U0UUxzfBpYI"
      },
      "outputs": [],
      "source": [
        "x = x(t)\n",
        "y = y(t)\n",
        "z = z(t)\n",
        "w = w(x,y,z)"
      ]
    },
    {
      "cell_type": "code",
      "execution_count": 46,
      "metadata": {
        "colab": {
          "base_uri": "https://localhost:8080/",
          "height": 56
        },
        "id": "tnAP1GBvBpYI",
        "outputId": "dd5faf1c-384f-46c0-faf0-c3ee36bf512d"
      },
      "outputs": [
        {
          "output_type": "execute_result",
          "data": {
            "text/plain": [
              "Derivative(w(x(t), y(t), z(t)), x(t))*Derivative(x(t), t) + Derivative(w(x(t), y(t), z(t)), y(t))*Derivative(y(t), t) + Derivative(w(x(t), y(t), z(t)), z(t))*Derivative(z(t), t)"
            ],
            "text/latex": "$\\displaystyle \\frac{d}{d x{\\left(t \\right)}} w{\\left(x{\\left(t \\right)},y{\\left(t \\right)},z{\\left(t \\right)} \\right)} \\frac{d}{d t} x{\\left(t \\right)} + \\frac{d}{d y{\\left(t \\right)}} w{\\left(x{\\left(t \\right)},y{\\left(t \\right)},z{\\left(t \\right)} \\right)} \\frac{d}{d t} y{\\left(t \\right)} + \\frac{d}{d z{\\left(t \\right)}} w{\\left(x{\\left(t \\right)},y{\\left(t \\right)},z{\\left(t \\right)} \\right)} \\frac{d}{d t} z{\\left(t \\right)}$"
          },
          "metadata": {},
          "execution_count": 46
        }
      ],
      "source": [
        "smp.diff(w,t)"
      ]
    },
    {
      "cell_type": "markdown",
      "metadata": {
        "id": "jSk1zHnlBpYJ"
      },
      "source": [
        "put in specific function:"
      ]
    },
    {
      "cell_type": "code",
      "execution_count": 47,
      "metadata": {
        "colab": {
          "base_uri": "https://localhost:8080/",
          "height": 74
        },
        "id": "W7sHQgMUBpYJ",
        "outputId": "016fc542-2100-409e-90cc-9b6ad0c5c323"
      },
      "outputs": [
        {
          "output_type": "execute_result",
          "data": {
            "text/plain": [
              "exp(cos(t))*sin(t**2)*Derivative(cos(t), t) + exp(cos(t))*cos(t**2)*Derivative(t**2, t) + 2*sin(t)*Derivative(sin(t), t)"
            ],
            "text/latex": "$\\displaystyle e^{\\cos{\\left(t \\right)}} \\sin{\\left(t^{2} \\right)} \\frac{d}{d t} \\cos{\\left(t \\right)} + e^{\\cos{\\left(t \\right)}} \\cos{\\left(t^{2} \\right)} \\frac{d}{d t} t^{2} + 2 \\sin{\\left(t \\right)} \\frac{d}{d t} \\sin{\\left(t \\right)}$"
          },
          "metadata": {},
          "execution_count": 47
        },
        {
          "output_type": "execute_result",
          "data": {
            "text/plain": [
              "2*t*exp(cos(t))*cos(t**2) - exp(cos(t))*sin(t)*sin(t**2) + 2*sin(t)*cos(t)"
            ],
            "text/latex": "$\\displaystyle 2 t e^{\\cos{\\left(t \\right)}} \\cos{\\left(t^{2} \\right)} - e^{\\cos{\\left(t \\right)}} \\sin{\\left(t \\right)} \\sin{\\left(t^{2} \\right)} + 2 \\sin{\\left(t \\right)} \\cos{\\left(t \\right)}$"
          },
          "metadata": {},
          "execution_count": 47
        }
      ],
      "source": [
        "w1 = x**2 + smp.exp(y) * smp.sin(z)\n",
        "smp.diff(w1,t).subs([(x,smp.sin(t)), (y,smp.cos(t)), (z,t**2)])\n",
        "smp.diff(w1,t).subs([(x,smp.sin(t)), (y,smp.cos(t)), (z,t**2)]).doit()"
      ]
    },
    {
      "cell_type": "markdown",
      "metadata": {
        "id": "v6GJsoDcBpYJ"
      },
      "source": [
        "### Gradients"
      ]
    },
    {
      "cell_type": "markdown",
      "metadata": {
        "id": "kVBKfbGcBpYJ"
      },
      "source": [
        "Gradients: $\\nabla{f}$  \n",
        "Now we will deal with particular coordinate system"
      ]
    },
    {
      "cell_type": "code",
      "execution_count": 48,
      "metadata": {
        "id": "L4zL4Pz-BpYK"
      },
      "outputs": [],
      "source": [
        "C = CoordSys3D('')"
      ]
    },
    {
      "cell_type": "code",
      "execution_count": 49,
      "metadata": {
        "colab": {
          "base_uri": "https://localhost:8080/",
          "height": 59
        },
        "id": "LQvs1n7sBpYK",
        "outputId": "33bd2e43-3b41-46fd-ee54-08fe3954a273"
      },
      "outputs": [
        {
          "output_type": "execute_result",
          "data": {
            "text/plain": [
              ".x*sin(.y)"
            ],
            "text/latex": "$\\displaystyle \\mathbf{{x}_{}} \\sin{\\left(\\mathbf{{y}_{}} \\right)}$"
          },
          "metadata": {},
          "execution_count": 49
        },
        {
          "output_type": "execute_result",
          "data": {
            "text/plain": [
              "(sin(.y))*.i + (.x*cos(.y))*.j"
            ],
            "text/latex": "$\\displaystyle (\\sin{\\left(\\mathbf{{y}_{}} \\right)})\\mathbf{\\hat{i}_{}} + (\\mathbf{{x}_{}} \\cos{\\left(\\mathbf{{y}_{}} \\right)})\\mathbf{\\hat{j}_{}}$"
          },
          "metadata": {},
          "execution_count": 49
        }
      ],
      "source": [
        "f = C.x*smp.sin(C.y)\n",
        "f\n",
        "gradient(f)"
      ]
    },
    {
      "cell_type": "code",
      "execution_count": 50,
      "metadata": {
        "colab": {
          "base_uri": "https://localhost:8080/",
          "height": 139
        },
        "id": "Wxh9bWVzBpYK",
        "outputId": "31b24f43-f191-4728-b0b3-611dd0d9bc26"
      },
      "outputs": [
        {
          "output_type": "execute_result",
          "data": {
            "text/plain": [
              "Matrix([\n",
              "[   sin(.y)],\n",
              "[.x*cos(.y)],\n",
              "[         0]])"
            ],
            "text/latex": "$\\displaystyle \\left[\\begin{matrix}\\sin{\\left(\\mathbf{{y}_{}} \\right)}\\\\\\mathbf{{x}_{}} \\cos{\\left(\\mathbf{{y}_{}} \\right)}\\\\0\\end{matrix}\\right]$"
          },
          "metadata": {},
          "execution_count": 50
        },
        {
          "output_type": "execute_result",
          "data": {
            "text/plain": [
              "Matrix([\n",
              "[   sin(1)],\n",
              "[.x*cos(1)],\n",
              "[        0]])"
            ],
            "text/latex": "$\\displaystyle \\left[\\begin{matrix}\\sin{\\left(1 \\right)}\\\\\\mathbf{{x}_{}} \\cos{\\left(1 \\right)}\\\\0\\end{matrix}\\right]$"
          },
          "metadata": {},
          "execution_count": 50
        }
      ],
      "source": [
        "gradient(f).to_matrix(C)\n",
        "gradient(f).to_matrix(C).subs([(C.y,1)])"
      ]
    },
    {
      "cell_type": "markdown",
      "metadata": {
        "id": "SGymWE_1BpYK"
      },
      "source": [
        "### Directional Derivatives"
      ]
    },
    {
      "cell_type": "markdown",
      "metadata": {
        "id": "JnEXUve_BpYK"
      },
      "source": [
        "Directional derivatives $D_{u}f = \\nabla{f} \\cdot u$ "
      ]
    },
    {
      "cell_type": "code",
      "execution_count": 51,
      "metadata": {
        "colab": {
          "base_uri": "https://localhost:8080/",
          "height": 77
        },
        "id": "NFlS6iXhBpYL",
        "outputId": "d6d27d9a-02ae-4933-d123-1dd436960b2c"
      },
      "outputs": [
        {
          "output_type": "execute_result",
          "data": {
            "text/plain": [
              "(4*sqrt(29)/29)*.i + (-3*sqrt(29)/29)*.j + (2*sqrt(29)/29)*.k"
            ],
            "text/latex": "$\\displaystyle (\\frac{4 \\sqrt{29}}{29})\\mathbf{\\hat{i}_{}} + (- \\frac{3 \\sqrt{29}}{29})\\mathbf{\\hat{j}_{}} + (\\frac{2 \\sqrt{29}}{29})\\mathbf{\\hat{k}_{}}$"
          },
          "metadata": {},
          "execution_count": 51
        },
        {
          "output_type": "execute_result",
          "data": {
            "text/plain": [
              "(sin(.y))*.i + (.x*cos(.y))*.j"
            ],
            "text/latex": "$\\displaystyle (\\sin{\\left(\\mathbf{{y}_{}} \\right)})\\mathbf{\\hat{i}_{}} + (\\mathbf{{x}_{}} \\cos{\\left(\\mathbf{{y}_{}} \\right)})\\mathbf{\\hat{j}_{}}$"
          },
          "metadata": {},
          "execution_count": 51
        }
      ],
      "source": [
        "u = 4*C.i - 3*C.j + 2*C.k\n",
        "# make into unit vector\n",
        "u = u.normalize()\n",
        "u\n",
        "gradient(f)"
      ]
    },
    {
      "cell_type": "code",
      "execution_count": 52,
      "metadata": {
        "colab": {
          "base_uri": "https://localhost:8080/",
          "height": 55
        },
        "id": "aQ34xc3gBpYL",
        "outputId": "a5205343-54cf-484f-f3b6-882d2a2d67ad"
      },
      "outputs": [
        {
          "output_type": "execute_result",
          "data": {
            "text/plain": [
              "-3*sqrt(29)*.x*cos(.y)/29 + 4*sqrt(29)*sin(.y)/29"
            ],
            "text/latex": "$\\displaystyle - \\frac{3 \\sqrt{29} \\mathbf{{x}_{}} \\cos{\\left(\\mathbf{{y}_{}} \\right)}}{29} + \\frac{4 \\sqrt{29} \\sin{\\left(\\mathbf{{y}_{}} \\right)}}{29}$"
          },
          "metadata": {},
          "execution_count": 52
        }
      ],
      "source": [
        "gradient(f).dot(u)"
      ]
    },
    {
      "cell_type": "markdown",
      "metadata": {
        "id": "f3HM8NFoBpYL"
      },
      "source": [
        "### Extreme Values and Saddle Points"
      ]
    },
    {
      "cell_type": "markdown",
      "metadata": {
        "id": "79mXGMY1BpYL"
      },
      "source": [
        "Extreme Values of $f(x,y)$ can occur at\n",
        "\n",
        "1. Boundary points of the domain of $f$\n",
        "2. Critical Points $(f_x = f_y = 0)$\n",
        "\n",
        "if,  \n",
        "\n",
        "(i) $f_{xx} < 0$ and $f_{xx} f_{yy} - (f_{xy})^2 > 0$ at (a,b) then *local Maximum*  \n",
        "(ii) $f_{xx} > 0$ and $f_{xx} f_{yy} - (f_{xy})^2 > 0$ at (a,b) then *local Minimum*  \n",
        "(iii) $f_{xx}f_{yy} - (f_{xy})^2 < 0 $ at (a,b) then *Saddle Point*  \n",
        "(iv) $f_{xx}f_{yy} - (f_{xy})^2= 0 $ at (a,b) then *inconclusive*"
      ]
    },
    {
      "cell_type": "code",
      "execution_count": 53,
      "metadata": {
        "colab": {
          "base_uri": "https://localhost:8080/",
          "height": 83
        },
        "id": "gF9zZ73dBpYL",
        "outputId": "a85d1142-1609-438e-88b1-bedf3881f569"
      },
      "outputs": [
        {
          "output_type": "execute_result",
          "data": {
            "text/plain": [
              "x**3 + 3*x*y + y**3"
            ],
            "text/latex": "$\\displaystyle x^{3} + 3 x y + y^{3}$"
          },
          "metadata": {},
          "execution_count": 53
        },
        {
          "output_type": "execute_result",
          "data": {
            "text/plain": [
              "3*x**2 + 3*y"
            ],
            "text/latex": "$\\displaystyle 3 x^{2} + 3 y$"
          },
          "metadata": {},
          "execution_count": 53
        },
        {
          "output_type": "execute_result",
          "data": {
            "text/plain": [
              "3*x + 3*y**2"
            ],
            "text/latex": "$\\displaystyle 3 x + 3 y^{2}$"
          },
          "metadata": {},
          "execution_count": 53
        }
      ],
      "source": [
        "x, y = smp.symbols('x, y', real=True)\n",
        "f = x**3 + 3*x*y + y**3\n",
        "f\n",
        "smp.diff(f,x)\n",
        "smp.diff(f,y)"
      ]
    },
    {
      "cell_type": "code",
      "execution_count": 54,
      "metadata": {
        "colab": {
          "base_uri": "https://localhost:8080/"
        },
        "id": "YXlo8WwJBpYM",
        "outputId": "d4b22a11-46ec-4acd-9857-382161ec230e"
      },
      "outputs": [
        {
          "output_type": "execute_result",
          "data": {
            "text/plain": [
              "[{x: -1, y: -1}, {x: 0, y: 0}]"
            ]
          },
          "metadata": {},
          "execution_count": 54
        }
      ],
      "source": [
        "smp.solve([smp.diff(f,x), smp.diff(f,y)])"
      ]
    },
    {
      "cell_type": "code",
      "execution_count": 55,
      "metadata": {
        "id": "FnYX6q3iBpYM"
      },
      "outputs": [],
      "source": [
        "fxx = smp.diff(f,x,x)\n",
        "fyy = smp.diff(f,y,y)\n",
        "fxy = smp.diff(f,x,y)"
      ]
    },
    {
      "cell_type": "code",
      "execution_count": 56,
      "metadata": {
        "id": "1ty_CEL2BpYM"
      },
      "outputs": [],
      "source": [
        "fxx_num1 = fxx.subs([(x,-1),(y,-1)])\n",
        "fyy_num1 = fyy.subs([(x,-1),(y,-1)])\n",
        "fxy_num1 = fxy.subs([(x,-1),(y,-1)])\n",
        "\n",
        "fxx_num2 = fxx.subs([(x,0),(y,0)])\n",
        "fyy_num2 = fyy.subs([(x,0),(y,0)])\n",
        "fxy_num2 = fxy.subs([(x,0),(y,0)])"
      ]
    },
    {
      "cell_type": "code",
      "execution_count": 57,
      "metadata": {
        "colab": {
          "base_uri": "https://localhost:8080/"
        },
        "id": "fY184IfyBpYN",
        "outputId": "d540b6fb-d30d-407a-a0ba-47379d89d8ee"
      },
      "outputs": [
        {
          "output_type": "stream",
          "name": "stdout",
          "text": [
            "Local Maxima\n"
          ]
        }
      ],
      "source": [
        "# for (x,y) at (-1,-1)\n",
        "\n",
        "if (fxx_num1 < 0 and (fxx_num1 * fyy_num1 - (fxy_num1)**2) >0):\n",
        "    print('Local Maxima')\n",
        "elif (fxx_num1 > 0 and (fxx_num1 * fyy_num1 - (fxy_num1)**2) >0):\n",
        "    print('Local Minima')\n",
        "elif ((fxx_num1 * fyy_num1 - (fxy_num1)**2) <0):\n",
        "    print('Saddle Point')\n",
        "else:\n",
        "    print('Inconclusive')"
      ]
    },
    {
      "cell_type": "code",
      "execution_count": 58,
      "metadata": {
        "colab": {
          "base_uri": "https://localhost:8080/"
        },
        "id": "dT1pL1fhBpYN",
        "outputId": "df8e728f-f5dc-48f4-b34e-845389fc4cb4"
      },
      "outputs": [
        {
          "output_type": "stream",
          "name": "stdout",
          "text": [
            "Saddle Point\n"
          ]
        }
      ],
      "source": [
        "# for (x,y) at (0,0)\n",
        "\n",
        "if (fxx_num2 < 0 and (fxx_num2 * fyy_num2 - (fxy_num2)**2) >0):\n",
        "    print('Local Maxima')\n",
        "elif (fxx_num2 > 0 and (fxx_num2 * fyy_num2 - (fxy_num2)**2) >0):\n",
        "    print('Local Minima')\n",
        "elif ((fxx_num2 * fyy_num2 - (fxy_num2)**2) <0):\n",
        "    print('Saddle Point')\n",
        "else:\n",
        "    print('Inconclusive')"
      ]
    },
    {
      "cell_type": "markdown",
      "metadata": {
        "id": "gyUSD3AZBpYN"
      },
      "source": [
        "### Lagrange Multipliers"
      ]
    },
    {
      "cell_type": "markdown",
      "metadata": {
        "id": "aa5MxjkPBpYN"
      },
      "source": [
        "Minimize $f(x,y,z)$ subject to the constraint $g(x,y,z) = 0$  \n",
        "\n",
        "- Requirement solving the two equations $\\nabla{f} = \\lambda \\nabla g$  and $g(x,y,z) = 0$"
      ]
    },
    {
      "cell_type": "markdown",
      "metadata": {
        "id": "EXcAHKz3BpYO"
      },
      "source": [
        "**Example** : A Space Probe hs the shape of an ellipsoid $4x^2 + y^2 + 4z^2 = 16$ and after sitting in the sun for an hour, the temperature on its surface is given by $T(x,y,z) = 8x^2 + 4yz - 16z + 600$. Find the hottest point on the surface.  \n",
        "\n",
        "Note that, $g = 4x^2 + y^2 + 4z^2 - 16$ and $f = T = 8x^2 + 4yz - 16z + 600$ here  "
      ]
    },
    {
      "cell_type": "code",
      "execution_count": 59,
      "metadata": {
        "id": "Wsm-rvUpBpYO"
      },
      "outputs": [],
      "source": [
        "C = CoordSys3D('')"
      ]
    },
    {
      "cell_type": "code",
      "execution_count": 60,
      "metadata": {
        "colab": {
          "base_uri": "https://localhost:8080/"
        },
        "id": "CmtZ5h4bBpYO",
        "outputId": "3d219197-1543-40bd-f2cd-a3a950c14b4e"
      },
      "outputs": [
        {
          "output_type": "execute_result",
          "data": {
            "text/plain": [
              "[{.x: -4/3, .y: -4/3, .z: -4/3, \\lambda: 2},\n",
              " {.x: 0, .y: -2, .z: -sqrt(3), \\lambda: sqrt(3)},\n",
              " {.x: 0, .y: -2, .z: sqrt(3), \\lambda: -sqrt(3)},\n",
              " {.x: 0, .y: 4, .z: 0, \\lambda: 0},\n",
              " {.x: 4/3, .y: -4/3, .z: -4/3, \\lambda: 2}]"
            ]
          },
          "metadata": {},
          "execution_count": 60
        }
      ],
      "source": [
        "lam = smp.symbols('\\lambda')\n",
        "g = 4*C.x**2 + C.y**2 + 4*C.z**2 - 16\n",
        "f = 8*C.x**2 + 4*C.y*C.z - 16*C.z + 600\n",
        "eq1 = gradient(f) - lam*gradient(g)\n",
        "eq1 = eq1.to_matrix(C)\n",
        "eq2 = g\n",
        "sols = smp.solve([eq1,eq2])\n",
        "sols"
      ]
    },
    {
      "cell_type": "code",
      "execution_count": 61,
      "metadata": {
        "colab": {
          "base_uri": "https://localhost:8080/"
        },
        "id": "kVz2WqhKBpYO",
        "outputId": "2fb5b571-3904-4098-8a94-31a926d117c1"
      },
      "outputs": [
        {
          "output_type": "stream",
          "name": "stdout",
          "text": [
            "642.666666666667\n",
            "641.569219381653\n",
            "558.430780618347\n",
            "600.000000000000\n",
            "642.666666666667\n"
          ]
        }
      ],
      "source": [
        "for sol in sols:\n",
        "    print(f.subs(sol).evalf())"
      ]
    },
    {
      "cell_type": "markdown",
      "metadata": {
        "id": "ieIIFyhYBpYO"
      },
      "source": [
        "## 3. Multiple Integrals"
      ]
    },
    {
      "cell_type": "markdown",
      "metadata": {
        "id": "-bDjLan9BpYP"
      },
      "source": [
        "In rare cases these can be done symbolically:\n",
        "$$\n",
        "\\int_{0}^{1} \\int_{0}^{1-x^2} \\int_{3}^{4-x^2-y^2} xdzdydx \n",
        "$$"
      ]
    },
    {
      "cell_type": "code",
      "execution_count": 62,
      "metadata": {
        "colab": {
          "base_uri": "https://localhost:8080/",
          "height": 51
        },
        "id": "kCZHhpWIBpYP",
        "outputId": "49947673-512e-4a71-b6ba-0b871df62eba"
      },
      "outputs": [
        {
          "output_type": "execute_result",
          "data": {
            "text/plain": [
              "1/8"
            ],
            "text/latex": "$\\displaystyle \\frac{1}{8}$"
          },
          "metadata": {},
          "execution_count": 62
        }
      ],
      "source": [
        "x, y, z = smp.symbols('x, y, z')\n",
        "f = x\n",
        "smp.integrate(f,(z,3,4-x**2-y**2),(y,0,1-x**2),(x,0,1))"
      ]
    },
    {
      "cell_type": "markdown",
      "metadata": {
        "id": "GfgwawK8BpYP"
      },
      "source": [
        "some multiple integrals are needed to be solved numerically.  \n",
        "such as in the example :\n",
        "$$\n",
        "\\int_{0}^{1} \\int_{0}^{1-x^2} \\int_{3}^{4-x^2-y^2} {xe^{-y}\\cos(z)}dzdydx\n",
        "$$"
      ]
    },
    {
      "cell_type": "markdown",
      "metadata": {
        "id": "TGrcdHS9BpYP"
      },
      "source": [
        "here scipy can be used."
      ]
    },
    {
      "cell_type": "code",
      "execution_count": 63,
      "metadata": {
        "id": "XU_Zu3qEBpYQ"
      },
      "outputs": [],
      "source": [
        "from scipy.integrate import tplquad"
      ]
    },
    {
      "cell_type": "code",
      "execution_count": 64,
      "metadata": {
        "colab": {
          "base_uri": "https://localhost:8080/"
        },
        "id": "I2Hqd7xYBpYQ",
        "outputId": "94d28350-124a-4f8c-8843-042db6c4ecfc"
      },
      "outputs": [
        {
          "output_type": "execute_result",
          "data": {
            "text/plain": [
              "-0.09109526451447894"
            ]
          },
          "metadata": {},
          "execution_count": 64
        }
      ],
      "source": [
        "\n",
        "f = lambda z, y, x: x*np.exp(-y)*np.cos(z)\n",
        "tplquad(f,0,1,\n",
        "            lambda x:0, lambda x: 1-x**2,\n",
        "            lambda x, y:3, lambda x, y: 4-x**2-y**2)[0]"
      ]
    },
    {
      "cell_type": "markdown",
      "metadata": {
        "id": "D8c3AEhTBpYQ"
      },
      "source": [
        "## 4. Integrals and Vector Fields"
      ]
    },
    {
      "cell_type": "markdown",
      "metadata": {
        "id": "YaB-opjwBpYQ"
      },
      "source": [
        "### Line Integrals(Scalar)"
      ]
    },
    {
      "cell_type": "markdown",
      "metadata": {
        "id": "HYczJ1fuBpYR"
      },
      "source": [
        "given $\\vec{r(t)} = \\langle {g(t),h(t),k(t)} \\rangle$ the line integral of $f(x,y,z)$ along the curve is  \n",
        "$$\n",
        "\\int_{C} f(x,y,z) ds = \\int_{a}^{b} f( g(t),h(t),k(t) ) |{d\\vec{r}}/{dt}| dt\n",
        "$$"
      ]
    },
    {
      "cell_type": "code",
      "execution_count": 65,
      "metadata": {
        "id": "ZjEfIc6QBpYR"
      },
      "outputs": [],
      "source": [
        "t = smp.symbols('t',real=True)\n",
        "x, y, z, f = smp.symbols('x, y, z, f', cls=smp.Function, real=True)\n",
        "x = x(t)\n",
        "y = y(t)\n",
        "z = z(t)\n",
        "r = smp.Matrix([x, y, z])\n",
        "f = f(x,y,z)"
      ]
    },
    {
      "cell_type": "code",
      "execution_count": 66,
      "metadata": {
        "colab": {
          "base_uri": "https://localhost:8080/",
          "height": 80
        },
        "id": "RVtojbu5BpYR",
        "outputId": "668d3a63-0339-467f-90af-646cf7cc1c84"
      },
      "outputs": [
        {
          "output_type": "execute_result",
          "data": {
            "text/plain": [
              "Integral(sqrt(Abs(Derivative(x(t), t))**2 + Abs(Derivative(y(t), t))**2 + Abs(Derivative(z(t), t))**2)*f(x(t), y(t), z(t)), (t, a, b))"
            ],
            "text/latex": "$\\displaystyle \\int\\limits_{a}^{b} \\sqrt{\\left|{\\frac{d}{d t} x{\\left(t \\right)}}\\right|^{2} + \\left|{\\frac{d}{d t} y{\\left(t \\right)}}\\right|^{2} + \\left|{\\frac{d}{d t} z{\\left(t \\right)}}\\right|^{2}} f{\\left(x{\\left(t \\right)},y{\\left(t \\right)},z{\\left(t \\right)} \\right)}\\, dt$"
          },
          "metadata": {},
          "execution_count": 66
        }
      ],
      "source": [
        "integrand = f*smp.diff(r,t).norm()\n",
        "smp.integrate(integrand,(t,a,b))"
      ]
    },
    {
      "cell_type": "markdown",
      "metadata": {
        "id": "ZQgcY709BpYR"
      },
      "source": [
        "suppose\n",
        "- $\\vec{r}(t) = \\langle {\\cos(t), \\sin(t), t} \\rangle$\n",
        "- $f(x,y,z) = 2xy + \\sqrt{z}$  \n",
        "\n",
        "and we are going from $t = 0$ to $t = 2\\pi$."
      ]
    },
    {
      "cell_type": "code",
      "execution_count": 67,
      "metadata": {
        "colab": {
          "base_uri": "https://localhost:8080/",
          "height": 68
        },
        "id": "CKIcvLgoBpYR",
        "outputId": "f0d01a7f-351d-4768-9224-e4c2d2f250c0"
      },
      "outputs": [
        {
          "output_type": "execute_result",
          "data": {
            "text/plain": [
              "sqrt(2)/2 + sqrt(2)*(-1/2 + 4*sqrt(2)*pi**(3/2)/3)"
            ],
            "text/latex": "$\\displaystyle \\frac{\\sqrt{2}}{2} + \\sqrt{2} \\left(- \\frac{1}{2} + \\frac{4 \\sqrt{2} \\pi^{\\frac{3}{2}}}{3}\\right)$"
          },
          "metadata": {},
          "execution_count": 67
        }
      ],
      "source": [
        "integrand1 = integrand.subs([(f,2*x*y + smp.sqrt(z)), \n",
        "                        (x,smp.cos(t)), (y,smp.sin(t)), (z,t)]).doit().simplify()\n",
        "\n",
        "smp.integrate(integrand1,(t,0,2*smp.pi))"
      ]
    },
    {
      "cell_type": "markdown",
      "metadata": {
        "id": "lis9BelhBpYS"
      },
      "source": [
        "In general, can't be done symbolically. Consider now  \n",
        "- $\\vec{r}(t) = \\langle {3\\cos(t), 2\\sin(t), e^{t/4}} \\rangle$\n",
        "- $f(x,y,z) = 2xy + \\sqrt{z}$  \n",
        "\n",
        "and we are going from $t = 0$ to $t = 2\\pi$."
      ]
    },
    {
      "cell_type": "code",
      "execution_count": 68,
      "metadata": {
        "colab": {
          "base_uri": "https://localhost:8080/",
          "height": 69
        },
        "id": "OVFDx4pUBpYS",
        "outputId": "a8d464f6-fd0c-4c35-f82a-f0c020e657f5"
      },
      "outputs": [
        {
          "output_type": "execute_result",
          "data": {
            "text/plain": [
              "(exp(t/8) + 6*sin(2*t))*sqrt(exp(t/2) + 80*sin(t)**2 + 64)/4"
            ],
            "text/latex": "$\\displaystyle \\frac{\\left(e^{\\frac{t}{8}} + 6 \\sin{\\left(2 t \\right)}\\right) \\sqrt{e^{\\frac{t}{2}} + 80 \\sin^{2}{\\left(t \\right)} + 64}}{4}$"
          },
          "metadata": {},
          "execution_count": 68
        }
      ],
      "source": [
        "integrand2 = integrand.subs([(f,2*x*y + smp.sqrt(z)), \n",
        "                        (x,3*smp.cos(t)), (y,2*smp.sin(t)), (z,smp.exp(t/4))]).doit().simplify()\n",
        "\n",
        "integrand2"
      ]
    },
    {
      "cell_type": "code",
      "execution_count": 69,
      "metadata": {
        "colab": {
          "base_uri": "https://localhost:8080/",
          "height": 79
        },
        "id": "vTvMyCXaBpYS",
        "outputId": "b8650fe6-e612-4595-b99c-9c25f3c5c64d"
      },
      "outputs": [
        {
          "output_type": "execute_result",
          "data": {
            "text/plain": [
              "Integral(6*sqrt(exp(t/2) + 80*sin(t)**2 + 64)*sin(2*t), (t, 0, 2*pi))/4 + Integral(sqrt(exp(t/2) + 80*sin(t)**2 + 64)*exp(t/8), (t, 0, 2*pi))/4"
            ],
            "text/latex": "$\\displaystyle \\frac{\\int\\limits_{0}^{2 \\pi} 6 \\sqrt{e^{\\frac{t}{2}} + 80 \\sin^{2}{\\left(t \\right)} + 64} \\sin{\\left(2 t \\right)}\\, dt}{4} + \\frac{\\int\\limits_{0}^{2 \\pi} \\sqrt{e^{\\frac{t}{2}} + 80 \\sin^{2}{\\left(t \\right)} + 64} e^{\\frac{t}{8}}\\, dt}{4}$"
          },
          "metadata": {},
          "execution_count": 69
        }
      ],
      "source": [
        "smp.integrate(integrand2,(t,0,2*smp.pi))"
      ]
    },
    {
      "cell_type": "code",
      "execution_count": 70,
      "metadata": {
        "colab": {
          "base_uri": "https://localhost:8080/"
        },
        "id": "3cLFHnkXBpYS",
        "outputId": "b45ee431-8b92-4375-fa93-02a53f54c1a3"
      },
      "outputs": [
        {
          "output_type": "execute_result",
          "data": {
            "text/plain": [
              "24.294733741870633"
            ]
          },
          "metadata": {},
          "execution_count": 70
        }
      ],
      "source": [
        "integrand2_num = smp.lambdify([t],integrand2)\n",
        "quad(integrand2_num, 0, 2*np.pi)[0]"
      ]
    },
    {
      "cell_type": "markdown",
      "metadata": {
        "id": "firE6ssxBpYS"
      },
      "source": [
        "### Line Integrals(Vector)"
      ]
    },
    {
      "cell_type": "markdown",
      "metadata": {
        "id": "Ksr56DXmBpYT"
      },
      "source": [
        "Given $\\vec{r}{t} = \\langle {g(t),h(t),k(t)} \\rangle$ the line integral of $\\vec{F}(x,y,z)$ along the curve is  \n",
        "$$\n",
        "\\int_{C} \\vec{F}(x,y,z) \\cdot d\\vec{r} = \\int_{a}^{b} \\vec{F}( g(t),h(t),k(t) ) \\cdot \\frac{d\\vec{r}}{dt} dt\n",
        "$$"
      ]
    },
    {
      "cell_type": "code",
      "execution_count": 71,
      "metadata": {
        "id": "BtF8EJ2OBpYT"
      },
      "outputs": [],
      "source": [
        "t = smp.symbols('t',real=True)\n",
        "x, y, z, F1, F2, F3 = smp.symbols('x, y, z, F_1, F_2, F_3', cls=smp.Function, real=True)\n",
        "x = x(t)\n",
        "y = y(t)\n",
        "z = z(t)\n",
        "F1 = F1(x,y,z)\n",
        "F2 = F2(x,y,z)\n",
        "F3 = F3(x,y,z)\n",
        "r = smp.Matrix([x,y,z])\n",
        "F = smp.Matrix([F1,F2,F3])"
      ]
    },
    {
      "cell_type": "code",
      "execution_count": 72,
      "metadata": {
        "colab": {
          "base_uri": "https://localhost:8080/",
          "height": 52
        },
        "id": "g1eDktZgBpYT",
        "outputId": "7aa81d6f-2858-4e26-a51c-800abe1436be"
      },
      "outputs": [
        {
          "output_type": "execute_result",
          "data": {
            "text/plain": [
              "F_1(x(t), y(t), z(t))*Derivative(x(t), t) + F_2(x(t), y(t), z(t))*Derivative(y(t), t) + F_3(x(t), y(t), z(t))*Derivative(z(t), t)"
            ],
            "text/latex": "$\\displaystyle \\operatorname{F_{1}}{\\left(x{\\left(t \\right)},y{\\left(t \\right)},z{\\left(t \\right)} \\right)} \\frac{d}{d t} x{\\left(t \\right)} + \\operatorname{F_{2}}{\\left(x{\\left(t \\right)},y{\\left(t \\right)},z{\\left(t \\right)} \\right)} \\frac{d}{d t} y{\\left(t \\right)} + \\operatorname{F_{3}}{\\left(x{\\left(t \\right)},y{\\left(t \\right)},z{\\left(t \\right)} \\right)} \\frac{d}{d t} z{\\left(t \\right)}$"
          },
          "metadata": {},
          "execution_count": 72
        }
      ],
      "source": [
        "integrand = F.dot(smp.diff(r,t))\n",
        "integrand"
      ]
    },
    {
      "cell_type": "markdown",
      "metadata": {
        "id": "gLjt1vTgBpYT"
      },
      "source": [
        "Suppose $\\vec{F} = \\langle {\\sqrt{z}, -2x, \\sqrt{y}} \\rangle$ and $\\vec{r}(t) = \\langle {t, t^2, t^4} \\rangle$ \n",
        "from $t = 0$ to $t = 1$"
      ]
    },
    {
      "cell_type": "code",
      "execution_count": 73,
      "metadata": {
        "colab": {
          "base_uri": "https://localhost:8080/",
          "height": 51
        },
        "id": "qhkb9-TcBpYT",
        "outputId": "b12c3395-69e2-4f42-a431-5e578a67f9c1"
      },
      "outputs": [
        {
          "output_type": "execute_result",
          "data": {
            "text/plain": [
              "-1/5"
            ],
            "text/latex": "$\\displaystyle - \\frac{1}{5}$"
          },
          "metadata": {},
          "execution_count": 73
        }
      ],
      "source": [
        "integrand1 = integrand.subs([(F1,smp.sqrt(z)), (F2,-2*x), (F3,smp.sqrt(y)), (x,t), (y,t**2), (z,t**4)]).doit().simplify()\n",
        "smp.integrate(integrand1,(t,0,1))"
      ]
    },
    {
      "cell_type": "markdown",
      "metadata": {
        "id": "X3FYnmr9BpYU"
      },
      "source": [
        "Sometimes it needs to be done numerically using scipy.  \n",
        "In that case we'd parameterize the integrand using *simpy.lambdify* and the use  \n",
        "*scipy.integrate.quad* to integrate. "
      ]
    },
    {
      "cell_type": "markdown",
      "metadata": {
        "id": "DuEA7wIuBpYU"
      },
      "source": [
        "Consider the following  \n",
        "\n",
        "$\\vec{F} = \\langle {\\sqrt{|z|}, -2x, \\sqrt{|y|}} \\rangle$ and $\\vec{r}(t) = \\langle {3\\cos^2(t),t^2,2\\sin(t)} \\rangle$ \n",
        "from $t = 0$ to $t = 2\\pi$"
      ]
    },
    {
      "cell_type": "code",
      "execution_count": 74,
      "metadata": {
        "colab": {
          "base_uri": "https://localhost:8080/",
          "height": 47
        },
        "id": "nB394NSGBpYU",
        "outputId": "389af2be-415f-45b5-f033-ce1229c385b7"
      },
      "outputs": [
        {
          "output_type": "execute_result",
          "data": {
            "text/plain": [
              "2*(-6*t*cos(t) - 3*sqrt(2)*sin(t)*sqrt(Abs(sin(t))) + Abs(t))*cos(t)"
            ],
            "text/latex": "$\\displaystyle 2 \\left(- 6 t \\cos{\\left(t \\right)} - 3 \\sqrt{2} \\sin{\\left(t \\right)} \\sqrt{\\left|{\\sin{\\left(t \\right)}}\\right|} + \\left|{t}\\right|\\right) \\cos{\\left(t \\right)}$"
          },
          "metadata": {},
          "execution_count": 74
        }
      ],
      "source": [
        "integrand2 = integrand.subs([(F1,smp.sqrt(smp.Abs(z))), (F2,-2*x), (F3,smp.sqrt(smp.Abs(y))), \n",
        "                        (x,3*(smp.cos(t))**2), (y,t**2), (z,2*smp.sin(t))]).doit().simplify()\n",
        "\n",
        "integrand2"
      ]
    },
    {
      "cell_type": "code",
      "execution_count": 75,
      "metadata": {
        "colab": {
          "base_uri": "https://localhost:8080/"
        },
        "id": "u9AHQ4l6BpYU",
        "outputId": "7b891151-c2d1-4c0c-e964-184001184d1e"
      },
      "outputs": [
        {
          "output_type": "execute_result",
          "data": {
            "text/plain": [
              "-118.4352528130723"
            ]
          },
          "metadata": {},
          "execution_count": 75
        }
      ],
      "source": [
        "integrand2_num = smp.lambdify([t],integrand2)\n",
        "quad(integrand2_num,0,2*smp.pi)[0]"
      ]
    },
    {
      "cell_type": "markdown",
      "metadata": {
        "id": "icU99tWdBpYV"
      },
      "source": [
        "### Surface Integrals(Scalar)"
      ]
    },
    {
      "cell_type": "markdown",
      "metadata": {
        "id": "V5pGxEKXBpYV"
      },
      "source": [
        "Area of a surface parameterized by $\\vec{r}(u,v)$ is given by\n",
        "$$\n",
        "A = \\iint_S \\left |\\frac{d\\vec{r}}{du} \\times \\frac{d\\vec{r}}{dv} \\right | dudv\n",
        "$$  \n",
        "\n",
        "The surface integral of a scaler function $G(\\vec{r}(u,v))$ is given by\n",
        "$$\n",
        "\\iint_S G(\\vec{r}(u,v)) \\left |\\frac{d\\vec{r}}{du} \\times \\frac{d\\vec{r}}{dv} \\right | dudv\n",
        "$$ "
      ]
    },
    {
      "cell_type": "markdown",
      "metadata": {
        "id": "uxEKhtSEBpYV"
      },
      "source": [
        "**Example** :  \n",
        "2D Parabola : $\\vec{r}(x,y) = \\langle {x,y,x^2+y^2} \\rangle$ and thus $\\vec{r}(\\rho,\\theta) = \\langle {\\rho\\cos\\theta,\\rho\\sin\\theta,\\rho^2} \\rangle$  \n",
        "Suppose the surface density is given by $G(x,y,z) = x^2+y^2$. Find surface integral for $0<\\rho<1$ and $0<\\theta<2\\pi$"
      ]
    },
    {
      "cell_type": "code",
      "execution_count": 76,
      "metadata": {
        "id": "Lzv18qhNBpYV"
      },
      "outputs": [],
      "source": [
        "rho, theta = smp.symbols(r'\\rho, \\theta',pos=True,real=True)\n",
        "x, y, z, G = smp.symbols('x, y, z, G',cls=smp.Function,real=True)\n",
        "x = x(rho,theta)\n",
        "y = y(rho,theta)\n",
        "z = z(rho,theta)\n",
        "G = G(x,y,z)\n",
        "r = smp.Matrix([x,y,z])"
      ]
    },
    {
      "cell_type": "code",
      "execution_count": 77,
      "metadata": {
        "colab": {
          "base_uri": "https://localhost:8080/",
          "height": 88
        },
        "id": "VtqJsPP8BpYV",
        "outputId": "5bc60599-b686-4183-fb93-44395cb2781b"
      },
      "outputs": [
        {
          "output_type": "execute_result",
          "data": {
            "text/plain": [
              "sqrt(Abs(Derivative(x(\\rho, \\theta), \\rho)*Derivative(y(\\rho, \\theta), \\theta) - Derivative(x(\\rho, \\theta), \\theta)*Derivative(y(\\rho, \\theta), \\rho))**2 + Abs(Derivative(x(\\rho, \\theta), \\rho)*Derivative(z(\\rho, \\theta), \\theta) - Derivative(x(\\rho, \\theta), \\theta)*Derivative(z(\\rho, \\theta), \\rho))**2 + Abs(Derivative(y(\\rho, \\theta), \\rho)*Derivative(z(\\rho, \\theta), \\theta) - Derivative(y(\\rho, \\theta), \\theta)*Derivative(z(\\rho, \\theta), \\rho))**2)*G(x(\\rho, \\theta), y(\\rho, \\theta), z(\\rho, \\theta))"
            ],
            "text/latex": "$\\displaystyle \\sqrt{\\left|{\\frac{\\partial}{\\partial \\rho} x{\\left(\\rho,\\theta \\right)} \\frac{\\partial}{\\partial \\theta} y{\\left(\\rho,\\theta \\right)} - \\frac{\\partial}{\\partial \\theta} x{\\left(\\rho,\\theta \\right)} \\frac{\\partial}{\\partial \\rho} y{\\left(\\rho,\\theta \\right)}}\\right|^{2} + \\left|{\\frac{\\partial}{\\partial \\rho} x{\\left(\\rho,\\theta \\right)} \\frac{\\partial}{\\partial \\theta} z{\\left(\\rho,\\theta \\right)} - \\frac{\\partial}{\\partial \\theta} x{\\left(\\rho,\\theta \\right)} \\frac{\\partial}{\\partial \\rho} z{\\left(\\rho,\\theta \\right)}}\\right|^{2} + \\left|{\\frac{\\partial}{\\partial \\rho} y{\\left(\\rho,\\theta \\right)} \\frac{\\partial}{\\partial \\theta} z{\\left(\\rho,\\theta \\right)} - \\frac{\\partial}{\\partial \\theta} y{\\left(\\rho,\\theta \\right)} \\frac{\\partial}{\\partial \\rho} z{\\left(\\rho,\\theta \\right)}}\\right|^{2}} G{\\left(x{\\left(\\rho,\\theta \\right)},y{\\left(\\rho,\\theta \\right)},z{\\left(\\rho,\\theta \\right)} \\right)}$"
          },
          "metadata": {},
          "execution_count": 77
        }
      ],
      "source": [
        "integrand = G*smp.diff(r,rho).cross(smp.diff(r,theta)).norm()\n",
        "integrand"
      ]
    },
    {
      "cell_type": "code",
      "execution_count": 78,
      "metadata": {
        "colab": {
          "base_uri": "https://localhost:8080/",
          "height": 41
        },
        "id": "AfFzjzWwBpYW",
        "outputId": "513f7523-d96f-4ffb-f1da-4a491e4cb34b"
      },
      "outputs": [
        {
          "output_type": "execute_result",
          "data": {
            "text/plain": [
              "\\rho**2*sqrt(4*\\rho**2 + 1)*Abs(\\rho)"
            ],
            "text/latex": "$\\displaystyle \\rho^{2} \\sqrt{4 \\rho^{2} + 1} \\left|{\\rho}\\right|$"
          },
          "metadata": {},
          "execution_count": 78
        }
      ],
      "source": [
        "integrand1 = integrand.subs([(G,x**2+y**2), \n",
        "(x,rho*smp.cos(theta)), (y,rho*smp.sin(theta)), (z,rho**2)]).doit().simplify()\n",
        "\n",
        "integrand1"
      ]
    },
    {
      "cell_type": "code",
      "execution_count": 79,
      "metadata": {
        "colab": {
          "base_uri": "https://localhost:8080/",
          "height": 106
        },
        "id": "MF2lazXQBpYW",
        "outputId": "66bcf49b-abe7-4fc9-b9a2-7e8d14c2e6c3"
      },
      "outputs": [
        {
          "output_type": "execute_result",
          "data": {
            "text/plain": [
              "pi/60 + 5*sqrt(5)*pi/12"
            ],
            "text/latex": "$\\displaystyle \\frac{\\pi}{60} + \\frac{5 \\sqrt{5} \\pi}{12}$"
          },
          "metadata": {},
          "execution_count": 79
        },
        {
          "output_type": "execute_result",
          "data": {
            "text/plain": [
              "2*pi*(1/120 + 5*sqrt(5)/24)"
            ],
            "text/latex": "$\\displaystyle 2 \\pi \\left(\\frac{1}{120} + \\frac{5 \\sqrt{5}}{24}\\right)$"
          },
          "metadata": {},
          "execution_count": 79
        }
      ],
      "source": [
        "smp.integrate(integrand1,(theta,0,2*smp.pi),(rho,0,1))\n",
        "smp.integrate(integrand1,(rho,0,1),(theta,0,2*smp.pi))"
      ]
    },
    {
      "cell_type": "markdown",
      "metadata": {
        "id": "M0yroDD-BpYW"
      },
      "source": [
        "### Surface Integrals (Vector)"
      ]
    },
    {
      "cell_type": "markdown",
      "metadata": {
        "id": "yiLJZa3lBpYW"
      },
      "source": [
        "The surface integral of a vector function $\\vec{G}(\\vec{r}(u,v))$ is given by\n",
        "$$\n",
        "\\iint_S \\vec{G}(\\vec{r}(u,v)) \\cdot \\left (\\frac{d\\vec{r}}{du} \\times \\frac{d\\vec{r}}{dv} \\right ) dudv\n",
        "$$  \n",
        "\n",
        "This is also known as the flux of the vector field $\\vec{G}$ through the surface."
      ]
    },
    {
      "cell_type": "markdown",
      "metadata": {
        "id": "omKAbkBUBpYX"
      },
      "source": [
        "**Example** :  \n",
        "2D Parabola : $\\vec{r}(x,y) = \\langle {x,y,x^2+y^2} \\rangle$ and thus $\\vec{r}(\\rho,\\theta) = \\langle {\\rho\\cos\\theta,\\rho\\sin\\theta,\\rho^2} \\rangle$  \n",
        "Suppose a vector field is given by $\\vec{G}(x,y,z) = \\langle {y^2,z,0} \\rangle$. Find the flux of $\\vec{G}$ through half the surface for $0<\\rho<1$ and $0<\\theta<\\pi$"
      ]
    },
    {
      "cell_type": "code",
      "execution_count": 80,
      "metadata": {
        "id": "KuE7_B66BpYX"
      },
      "outputs": [],
      "source": [
        "rho, theta = smp.symbols(r'\\rho, \\theta',pos=True,real=True)\n",
        "x, y, z, G1, G2, G3 = smp.symbols('x, y, z, G_1, G_2, G_3',cls=smp.Function,real=True)\n",
        "x = x(rho,theta)\n",
        "y = y(rho,theta)\n",
        "z = z(rho,theta)\n",
        "G1 = G1(x,y,z)\n",
        "G2 = G2(x,y,z)\n",
        "G3 = G3(x,y,z)\n",
        "G = smp.Matrix([G1, G2, G3])\n",
        "r = smp.Matrix([x,y,z])"
      ]
    },
    {
      "cell_type": "code",
      "execution_count": 81,
      "metadata": {
        "colab": {
          "base_uri": "https://localhost:8080/",
          "height": 139
        },
        "id": "k2SvFn6ZBpYX",
        "outputId": "81fae79d-dc20-48d3-ce04-6ccaea6f03d8"
      },
      "outputs": [
        {
          "output_type": "execute_result",
          "data": {
            "text/plain": [
              "(Derivative(x(\\rho, \\theta), \\rho)*Derivative(y(\\rho, \\theta), \\theta) - Derivative(x(\\rho, \\theta), \\theta)*Derivative(y(\\rho, \\theta), \\rho))*G_3(x(\\rho, \\theta), y(\\rho, \\theta), z(\\rho, \\theta)) + (-Derivative(x(\\rho, \\theta), \\rho)*Derivative(z(\\rho, \\theta), \\theta) + Derivative(x(\\rho, \\theta), \\theta)*Derivative(z(\\rho, \\theta), \\rho))*G_2(x(\\rho, \\theta), y(\\rho, \\theta), z(\\rho, \\theta)) + (Derivative(y(\\rho, \\theta), \\rho)*Derivative(z(\\rho, \\theta), \\theta) - Derivative(y(\\rho, \\theta), \\theta)*Derivative(z(\\rho, \\theta), \\rho))*G_1(x(\\rho, \\theta), y(\\rho, \\theta), z(\\rho, \\theta))"
            ],
            "text/latex": "$\\displaystyle \\left(\\frac{\\partial}{\\partial \\rho} x{\\left(\\rho,\\theta \\right)} \\frac{\\partial}{\\partial \\theta} y{\\left(\\rho,\\theta \\right)} - \\frac{\\partial}{\\partial \\theta} x{\\left(\\rho,\\theta \\right)} \\frac{\\partial}{\\partial \\rho} y{\\left(\\rho,\\theta \\right)}\\right) \\operatorname{G_{3}}{\\left(x{\\left(\\rho,\\theta \\right)},y{\\left(\\rho,\\theta \\right)},z{\\left(\\rho,\\theta \\right)} \\right)} + \\left(- \\frac{\\partial}{\\partial \\rho} x{\\left(\\rho,\\theta \\right)} \\frac{\\partial}{\\partial \\theta} z{\\left(\\rho,\\theta \\right)} + \\frac{\\partial}{\\partial \\theta} x{\\left(\\rho,\\theta \\right)} \\frac{\\partial}{\\partial \\rho} z{\\left(\\rho,\\theta \\right)}\\right) \\operatorname{G_{2}}{\\left(x{\\left(\\rho,\\theta \\right)},y{\\left(\\rho,\\theta \\right)},z{\\left(\\rho,\\theta \\right)} \\right)} + \\left(\\frac{\\partial}{\\partial \\rho} y{\\left(\\rho,\\theta \\right)} \\frac{\\partial}{\\partial \\theta} z{\\left(\\rho,\\theta \\right)} - \\frac{\\partial}{\\partial \\theta} y{\\left(\\rho,\\theta \\right)} \\frac{\\partial}{\\partial \\rho} z{\\left(\\rho,\\theta \\right)}\\right) \\operatorname{G_{1}}{\\left(x{\\left(\\rho,\\theta \\right)},y{\\left(\\rho,\\theta \\right)},z{\\left(\\rho,\\theta \\right)} \\right)}$"
          },
          "metadata": {},
          "execution_count": 81
        }
      ],
      "source": [
        "integrand = G.dot(smp.diff(r,rho).cross(smp.diff(r,theta)))\n",
        "integrand"
      ]
    },
    {
      "cell_type": "code",
      "execution_count": 82,
      "metadata": {
        "colab": {
          "base_uri": "https://localhost:8080/",
          "height": 58
        },
        "id": "xOBDiteDBpYX",
        "outputId": "cc809d47-ad06-4173-9a57-f791b0889774"
      },
      "outputs": [
        {
          "output_type": "execute_result",
          "data": {
            "text/plain": [
              "-2*\\rho**4*(sin(2*\\theta)/2 + 1)*sin(\\theta)"
            ],
            "text/latex": "$\\displaystyle - 2 \\rho^{4} \\left(\\frac{\\sin{\\left(2 \\theta \\right)}}{2} + 1\\right) \\sin{\\left(\\theta \\right)}$"
          },
          "metadata": {},
          "execution_count": 82
        }
      ],
      "source": [
        "integrand1 = integrand.subs([(G1,y**2), (G2,z),(G3,0),(x,rho*smp.cos(theta)),\n",
        "(y,rho*smp.sin(theta)), (z,rho**2)]).doit().simplify()\n",
        "integrand1"
      ]
    },
    {
      "cell_type": "code",
      "execution_count": 83,
      "metadata": {
        "colab": {
          "base_uri": "https://localhost:8080/",
          "height": 51
        },
        "id": "AM9ih5WABpYX",
        "outputId": "7d002da1-59f4-4045-c474-a91844b57713"
      },
      "outputs": [
        {
          "output_type": "execute_result",
          "data": {
            "text/plain": [
              "-4/5"
            ],
            "text/latex": "$\\displaystyle - \\frac{4}{5}$"
          },
          "metadata": {},
          "execution_count": 83
        }
      ],
      "source": [
        "smp.integrate(integrand1,(theta,0,smp.pi),(rho,0,1))"
      ]
    },
    {
      "cell_type": "markdown",
      "metadata": {
        "id": "MOc6HD0qBpYY"
      },
      "source": [
        "## Explicit Sympy Functionality"
      ]
    },
    {
      "cell_type": "code",
      "execution_count": 84,
      "metadata": {
        "id": "21-wTmeqBpYY"
      },
      "outputs": [],
      "source": [
        "from sympy.vector import ParametricRegion\n",
        "C = CoordSys3D('')"
      ]
    },
    {
      "cell_type": "markdown",
      "metadata": {
        "id": "H-y-znc7BpYY"
      },
      "source": [
        "Find the mass of a cylinder with radius $\\alpha$ and height $h$ centered at origin with density $\\rho(x,y) = x^2+y^2$"
      ]
    },
    {
      "cell_type": "code",
      "execution_count": 85,
      "metadata": {
        "colab": {
          "base_uri": "https://localhost:8080/",
          "height": 54
        },
        "id": "fuoOH8PlBpYY",
        "outputId": "2893f044-7d9e-4432-c14b-2971e0a621d8"
      },
      "outputs": [
        {
          "output_type": "execute_result",
          "data": {
            "text/plain": [
              "pi*a**4*h/2"
            ],
            "text/latex": "$\\displaystyle \\frac{\\pi a^{4} h}{2}$"
          },
          "metadata": {},
          "execution_count": 85
        }
      ],
      "source": [
        "a, h, r, theta, z = smp.symbols(r'a h r \\theta z', pos='True')\n",
        "cylinder = ParametricRegion((r*smp.cos(theta),r*smp.sin(theta),z),\n",
        "(theta,0,2*smp.pi),(z,0,h),(r,0,a))\n",
        "vector_integrate(C.x**2+C.y**2,cylinder)"
      ]
    },
    {
      "cell_type": "code",
      "execution_count": 85,
      "metadata": {
        "id": "mCGYjP_vBpYY"
      },
      "outputs": [],
      "source": []
    }
  ],
  "metadata": {
    "kernelspec": {
      "display_name": "Python 3",
      "language": "python",
      "name": "python3"
    },
    "language_info": {
      "codemirror_mode": {
        "name": "ipython",
        "version": 3
      },
      "file_extension": ".py",
      "mimetype": "text/x-python",
      "name": "python",
      "nbconvert_exporter": "python",
      "pygments_lexer": "ipython3",
      "version": "3.11.1"
    },
    "vscode": {
      "interpreter": {
        "hash": "cfda8635c9eecc896b3c721121da8a50ab91e909b2ca0473fb43f2334248cebb"
      }
    },
    "colab": {
      "provenance": []
    }
  },
  "nbformat": 4,
  "nbformat_minor": 0
}